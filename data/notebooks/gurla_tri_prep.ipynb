{
 "cells": [
  {
   "cell_type": "code",
   "execution_count": 1,
   "metadata": {
    "collapsed": true
   },
   "outputs": [],
   "source": [
    "import pandas as pd\n",
    "import numpy as np\n",
    "import json"
   ]
  },
  {
   "cell_type": "markdown",
   "metadata": {},
   "source": [
    "## adding z coords to geojson pts"
   ]
  },
  {
   "cell_type": "code",
   "execution_count": 2,
   "metadata": {
    "collapsed": true
   },
   "outputs": [],
   "source": [
    "#with open('../gis/gurla_z_pts.geojson') as f:\n",
    "#    gp = json.load(f)"
   ]
  },
  {
   "cell_type": "code",
   "execution_count": 3,
   "metadata": {
    "collapsed": false
   },
   "outputs": [],
   "source": [
    "#for feat in gp['features']:\n",
    "#    coords = feat['geometry']['coordinates']\n",
    "#    z_val = feat['properties']['Z']\n",
    "#    coords.append(z_val)"
   ]
  },
  {
   "cell_type": "code",
   "execution_count": 4,
   "metadata": {
    "collapsed": true
   },
   "outputs": [],
   "source": [
    "#with open('../gis/gurla_z_pts.geojson', 'w') as f:\n",
    "#    json.dump(gp, f)"
   ]
  },
  {
   "cell_type": "code",
   "execution_count": 6,
   "metadata": {
    "collapsed": false
   },
   "outputs": [
    {
     "data": {
      "text/plain": [
       "{'geometry': {'coordinates': [-48162.7720081706,\n",
       "   3350150.7917627767,\n",
       "   3685,\n",
       "   3685,\n",
       "   3685],\n",
       "  'type': 'Point'},\n",
       " 'properties': {'X': -48162.772008, 'Y': 3350150.791763, 'Z': 3685, 'id': 0},\n",
       " 'type': 'Feature'}"
      ]
     },
     "execution_count": 6,
     "metadata": {},
     "output_type": "execute_result"
    }
   ],
   "source": [
    "gp['features'][0]"
   ]
  },
  {
   "cell_type": "markdown",
   "metadata": {},
   "source": [
    "## adding z coords to geojson polys"
   ]
  },
  {
   "cell_type": "markdown",
   "metadata": {},
   "source": [
    "### make pt table"
   ]
  },
  {
   "cell_type": "code",
   "execution_count": 7,
   "metadata": {
    "collapsed": false
   },
   "outputs": [
    {
     "data": {
      "text/html": [
       "<div>\n",
       "<table border=\"1\" class=\"dataframe\">\n",
       "  <thead>\n",
       "    <tr style=\"text-align: right;\">\n",
       "      <th></th>\n",
       "      <th>X</th>\n",
       "      <th>Y</th>\n",
       "      <th>Z</th>\n",
       "    </tr>\n",
       "    <tr>\n",
       "      <th>id</th>\n",
       "      <th></th>\n",
       "      <th></th>\n",
       "      <th></th>\n",
       "    </tr>\n",
       "  </thead>\n",
       "  <tbody>\n",
       "    <tr>\n",
       "      <th>0</th>\n",
       "      <td>-48162.772008</td>\n",
       "      <td>3350150.791763</td>\n",
       "      <td>3685</td>\n",
       "    </tr>\n",
       "    <tr>\n",
       "      <th>1</th>\n",
       "      <td>-50157.176651</td>\n",
       "      <td>3351825.986467</td>\n",
       "      <td>3681</td>\n",
       "    </tr>\n",
       "    <tr>\n",
       "      <th>2</th>\n",
       "      <td>-51194.059027</td>\n",
       "      <td>3354386.865733</td>\n",
       "      <td>3841</td>\n",
       "    </tr>\n",
       "    <tr>\n",
       "      <th>3</th>\n",
       "      <td>-53080.208694</td>\n",
       "      <td>3356174.076748</td>\n",
       "      <td>3948</td>\n",
       "    </tr>\n",
       "    <tr>\n",
       "      <th>4</th>\n",
       "      <td>-54299.894490</td>\n",
       "      <td>3358102.938650</td>\n",
       "      <td>4118</td>\n",
       "    </tr>\n",
       "  </tbody>\n",
       "</table>\n",
       "</div>"
      ],
      "text/plain": [
       "               X               Y     Z\n",
       "id                                    \n",
       "0  -48162.772008  3350150.791763  3685\n",
       "1  -50157.176651  3351825.986467  3681\n",
       "2  -51194.059027  3354386.865733  3841\n",
       "3  -53080.208694  3356174.076748  3948\n",
       "4  -54299.894490  3358102.938650  4118"
      ]
     },
     "execution_count": 7,
     "metadata": {},
     "output_type": "execute_result"
    }
   ],
   "source": [
    "pdf = pd.read_csv('../gis/gurla_z_pts.csv', index_col=3)\n",
    "\n",
    "pdf.head()"
   ]
  },
  {
   "cell_type": "code",
   "execution_count": null,
   "metadata": {
    "collapsed": true
   },
   "outputs": [],
   "source": []
  },
  {
   "cell_type": "markdown",
   "metadata": {},
   "source": [
    "### get geojson tris"
   ]
  },
  {
   "cell_type": "code",
   "execution_count": 56,
   "metadata": {
    "collapsed": true
   },
   "outputs": [],
   "source": [
    "with open('../gis/gurla_tris.geojson') as f:\n",
    "    gt = json.load(f)"
   ]
  },
  {
   "cell_type": "markdown",
   "metadata": {},
   "source": [
    "### get z values"
   ]
  },
  {
   "cell_type": "code",
   "execution_count": 57,
   "metadata": {
    "collapsed": false
   },
   "outputs": [
    {
     "data": {
      "text/plain": [
       "[[[-55783.583006836, 3342716.71580536],\n",
       "  [-54677.8965490291, 3339938.7432105276],\n",
       "  [-56725.8969340146, 3341331.705430983],\n",
       "  [-55783.583006836, 3342716.71580536]]]"
      ]
     },
     "execution_count": 57,
     "metadata": {},
     "output_type": "execute_result"
    }
   ],
   "source": [
    "gt['features'][0]['geometry']['coordinates']#[0][0]"
   ]
  },
  {
   "cell_type": "code",
   "execution_count": 58,
   "metadata": {
    "collapsed": false
   },
   "outputs": [],
   "source": [
    "gc = gt.copy()"
   ]
  },
  {
   "cell_type": "code",
   "execution_count": 59,
   "metadata": {
    "collapsed": false
   },
   "outputs": [],
   "source": [
    "for feat in gc['features']:\n",
    "    coors = feat['geometry']['coordinates'][0]\n",
    "    zs = pdf.loc[(int(feat['properties']['POINTA']), int(feat['properties']['POINTB']), \n",
    "                  int(feat['properties']['POINTC']), int(feat['properties']['POINTA'])), 'Z'\n",
    "                 ].values\n",
    "    for i, coor in enumerate(coors):\n",
    "        coor.append(float(zs[i]))"
   ]
  },
  {
   "cell_type": "code",
   "execution_count": 60,
   "metadata": {
    "collapsed": false
   },
   "outputs": [
    {
     "data": {
      "text/plain": [
       "{'geometry': {'coordinates': [[[-57886.2658870933,\n",
       "     3407087.5218043914,\n",
       "     -20455.0],\n",
       "    [-54899.2065167453, 3407362.546040953, -20455.0],\n",
       "    [-55140.9567051379, 3405082.4065878605, -15455.0],\n",
       "    [-57886.2658870933, 3407087.5218043914, -20455.0]]],\n",
       "  'type': 'Polygon'},\n",
       " 'properties': {'POINTA': 175.0, 'POINTB': 174.0, 'POINTC': 142.0},\n",
       " 'type': 'Feature'}"
      ]
     },
     "execution_count": 60,
     "metadata": {},
     "output_type": "execute_result"
    }
   ],
   "source": [
    "gc['features'][-1]"
   ]
  },
  {
   "cell_type": "markdown",
   "metadata": {},
   "source": [
    "### get centers and area"
   ]
  },
  {
   "cell_type": "markdown",
   "metadata": {},
   "source": [
    "$S = \\frac{|AB \\times AC|}{2}$"
   ]
  },
  {
   "cell_type": "code",
   "execution_count": 61,
   "metadata": {
    "collapsed": false
   },
   "outputs": [],
   "source": [
    "def area(coords):\n",
    "    ab = np.array(coords[0]) - np.array(coords[1])\n",
    "    ac = np.array(coords[0]) - np.array(coords[2])\n",
    "    \n",
    "    return np.linalg.norm(np.cross(ab, ac)) / 2e6"
   ]
  },
  {
   "cell_type": "code",
   "execution_count": 62,
   "metadata": {
    "collapsed": false
   },
   "outputs": [
    {
     "data": {
      "text/plain": [
       "[-55975.476369658834, 3406510.824811069, -18788.333333333332]"
      ]
     },
     "execution_count": 62,
     "metadata": {},
     "output_type": "execute_result"
    }
   ],
   "source": [
    "def center(coords):\n",
    "    return ((np.array(coords[0]) + np.array(coords[1]) \n",
    "             + np.array(coords[2])) / 3).tolist()\n",
    "\n",
    "center(coors)"
   ]
  },
  {
   "cell_type": "code",
   "execution_count": 63,
   "metadata": {
    "collapsed": false
   },
   "outputs": [],
   "source": [
    "for feat in gc['features']:\n",
    "    coords = feat['geometry']['coordinates'][0]\n",
    "    feat['properties']['area_sq_km'] = area(coords)\n",
    "    \n",
    "    feat['properties']['center'] = center(coords)"
   ]
  },
  {
   "cell_type": "code",
   "execution_count": 64,
   "metadata": {
    "collapsed": false
   },
   "outputs": [
    {
     "data": {
      "text/plain": [
       "{'geometry': {'coordinates': [[[-63078.7116583341, 3368647.63774455, -816.0],\n",
       "    [-56488.0645559977, 3367841.8357556644, 4045.0],\n",
       "    [-56808.9791004168, 3366516.191889601, 4263.0],\n",
       "    [-63078.7116583341, 3368647.63774455, -816.0]]],\n",
       "  'type': 'Polygon'},\n",
       " 'properties': {'POINTA': 36.0,\n",
       "  'POINTB': 9.0,\n",
       "  'POINTC': 8.0,\n",
       "  'area_sq_km': 5.6830856866119914,\n",
       "  'center': [-58791.91843824953, 3367668.5551299383, 2497.3333333333335]},\n",
       " 'type': 'Feature'}"
      ]
     },
     "execution_count": 64,
     "metadata": {},
     "output_type": "execute_result"
    }
   ],
   "source": [
    "gc['features'][100]"
   ]
  },
  {
   "cell_type": "markdown",
   "metadata": {},
   "source": [
    "### get strike and dip"
   ]
  },
  {
   "cell_type": "code",
   "execution_count": 65,
   "metadata": {
    "collapsed": true
   },
   "outputs": [],
   "source": [
    "import halfspace.projections as hsp"
   ]
  },
  {
   "cell_type": "code",
   "execution_count": 66,
   "metadata": {
    "collapsed": true
   },
   "outputs": [],
   "source": [
    "for feat in gc['features']:\n",
    "    coords = feat['geometry']['coordinates'][0]\n",
    "    \n",
    "    coo = [[co[0], co[1], -co[2]] for co in coords[:-1]]\n",
    "    \n",
    "    s, d = hsp.strike_dip_from_3_xyz(coo[0], coo[1], coo[2])\n",
    "    \n",
    "    feat['properties']['strike'], feat['properties']['dip'] = s, d"
   ]
  },
  {
   "cell_type": "code",
   "execution_count": 67,
   "metadata": {
    "collapsed": false
   },
   "outputs": [
    {
     "data": {
      "text/plain": [
       "(185.26049999942541, 65.787778323950604)"
      ]
     },
     "execution_count": 67,
     "metadata": {},
     "output_type": "execute_result"
    }
   ],
   "source": [
    "hsp.strike_dip_from_3_xyz(*[[co[0], co[1], -co[2]] for co in coors[:-1]])"
   ]
  },
  {
   "cell_type": "code",
   "execution_count": 68,
   "metadata": {
    "collapsed": false
   },
   "outputs": [
    {
     "data": {
      "text/plain": [
       "{'geometry': {'coordinates': [[[-63078.7116583341, 3368647.63774455, -816.0],\n",
       "    [-56488.0645559977, 3367841.8357556644, 4045.0],\n",
       "    [-56808.9791004168, 3366516.191889601, 4263.0],\n",
       "    [-63078.7116583341, 3368647.63774455, -816.0]]],\n",
       "  'type': 'Polygon'},\n",
       " 'properties': {'POINTA': 36.0,\n",
       "  'POINTB': 9.0,\n",
       "  'POINTC': 8.0,\n",
       "  'area_sq_km': 5.6830856866119914,\n",
       "  'center': [-58791.91843824953, 3367668.5551299383, 2497.3333333333335],\n",
       "  'dip': 37.68134833327008,\n",
       "  'strike': 244.44859892337777},\n",
       " 'type': 'Feature'}"
      ]
     },
     "execution_count": 68,
     "metadata": {},
     "output_type": "execute_result"
    }
   ],
   "source": [
    "gc['features'][100]"
   ]
  },
  {
   "cell_type": "markdown",
   "metadata": {},
   "source": [
    "### get rake"
   ]
  },
  {
   "cell_type": "code",
   "execution_count": 69,
   "metadata": {
    "collapsed": false
   },
   "outputs": [],
   "source": [
    "def plunge_from_sd_trend(strike, dip, trend, angle='degrees', out_angle='degrees'):\n",
    "    ''' Calculates the plunge of a trend (azimuth) when projected onto a dipping plane.\n",
    "    This is the calculation for apparent dip, but may also be other sorts of projections,\n",
    "    such as the plunge of a lineation of known azimuth on a plane of known attitude.\n",
    "    \n",
    "    Returns a float scalar or vector of plunges.\n",
    "    \n",
    "    Inputs:\n",
    "    strike: Strike of plane\n",
    "    dip: Dip of plane\n",
    "    trend: Azimuth of line to be projected onto the plane\n",
    "    angle: Unit of strike, dip, trend (degrees (default) or radians.)\n",
    "    out_angle: Unit of plunge (degrees (default) or radians.)\n",
    "    \n",
    "    All inputs should be in right-hand rule.\n",
    "    '''\n",
    "    if angle == 'degrees':\n",
    "        s = np.radians(strike)\n",
    "        d = np.radians(dip)\n",
    "        t = np.radians(trend)\n",
    "    else:\n",
    "        s = strike\n",
    "        d = dip\n",
    "        t = trend\n",
    "        \n",
    "    dip_trend_angle = s + np.pi/2 - t\n",
    "    \n",
    "    plunge = np.arctan( np.cos(dip_trend_angle) * np.tan(d))\n",
    "    \n",
    "    if out_angle == 'degrees':\n",
    "        plunge = np.degrees(plunge)\n",
    "    \n",
    "    return plunge\n",
    "\n",
    "\n",
    "def rake_from_sd_trend(strike, dip, trend, angle='degrees',\n",
    "                       out_angle='degrees', aki_richards=False):\n",
    "    '''\n",
    "    Calculates the rake'''\n",
    "    \n",
    "\n",
    "    plunge = plunge_from_sd_trend(strike, dip, trend, angle=angle,\n",
    "                                 out_angle=out_angle)\n",
    "    rake = rake_from_dip_plunge(dip, plunge, angle=angle,\n",
    "                                out_angle=out_angle)\n",
    "    \n",
    "    # some more stuff to get rake into Aki and Richards convention\n",
    "    # (0 = rl, -90 = normal, +/- 180 = ll, 90 = reverse)\n",
    "    if aki_richards == True:\n",
    "        rake = rake_to_aki_richards(strike, dip, trend, rake,\n",
    "                                   angle=angle, out_angle=out_angle)\n",
    "        \n",
    "    return rake\n",
    "\n",
    "\n",
    "def rake_from_dip_plunge(dip, plunge, angle='degrees',\n",
    "                         out_angle='degrees'):\n",
    "    if angle == 'degrees':\n",
    "        d = np.radians(dip)\n",
    "        p = np.radians(plunge)\n",
    "    elif angle == 'radians':\n",
    "        d = dip\n",
    "        p = plunge\n",
    "    \n",
    "    rake = np.arcsin( np.sin(p) / np.sin(d))\n",
    "    if out_angle == 'degrees':\n",
    "        rake = np.degrees(rake)\n",
    "    elif out_angle == 'radians':\n",
    "        pass\n",
    "    else:\n",
    "        raise Exception('out_angle needs to be in \"degrees\" or \"radians\"')\n",
    "    return rake\n",
    "\n",
    "\n",
    "def rake_to_aki_richards(strike, dip, trend, rake, \n",
    "                         angle='degrees', out_angle='degrees'):\n",
    "    '''\n",
    "    Takes a regular rake angle, as well as the strike, dip and azimuthal, directional\n",
    "    trend of slip and returns the rake in Aki and Richards convention.'''\n",
    "    \n",
    "    rake *= -1\n",
    "    if angle == 'radians':\n",
    "        strike = np.degrees(strike)\n",
    "        trend = np.degrees(trend)\n",
    "        rake = np.degrees(rake)\n",
    "        \n",
    "    if np.isscalar(dip): \n",
    "        trend_strike_diff = angle_difference(strike, trend)\n",
    "    else:   # work w/ dip ranges and scalar strike, trends\n",
    "        trend_strike_diff = np.ones(len(dip)) * angle_difference(strike, trend)\n",
    "    \n",
    "    if np.isscalar(rake):\n",
    "        if 90 < trend_strike_diff <= 180:\n",
    "            rake = -(180 + rake)\n",
    "        elif -90 >= trend_strike_diff >= -180:\n",
    "            rake = 180 - rake\n",
    "    else:\n",
    "        rake[ (90 < trend_strike_diff) & (trend_strike_diff < 180) ] += 180\n",
    "        rake[ (90 < trend_strike_diff) & (trend_strike_diff < 180) ] *= -1\n",
    "        rake[(-90 > trend_strike_diff) & (trend_strike_diff > -180)] *= -1\n",
    "        rake[(-90 > trend_strike_diff) & (trend_strike_diff > -180)] += 180\n",
    "        \n",
    "    if out_angle == 'radians':\n",
    "        rake = np.radians(rake)\n",
    "    return rake"
   ]
  },
  {
   "cell_type": "code",
   "execution_count": 70,
   "metadata": {
    "collapsed": true
   },
   "outputs": [],
   "source": [
    "def unwrap(azimuth):\n",
    "    if np.isscalar(azimuth):\n",
    "        while azimuth < 0:\n",
    "            azimuth += 360\n",
    "        while azimuth > 360:\n",
    "            azumuth -= 360\n",
    "    else:\n",
    "        azimuth = np.array(azimuth)\n",
    "        while np.any([azimuth < 0]):\n",
    "            azimuth[azimuth < 0] += 360\n",
    "        \n",
    "        while np.any([azimuth > 360]):\n",
    "            azimuth[azimuth > 360] -= 360\n",
    "    return azimuth\n",
    "    "
   ]
  },
  {
   "cell_type": "code",
   "execution_count": 71,
   "metadata": {
    "collapsed": true
   },
   "outputs": [],
   "source": [
    "def angle_difference(trend1, trend2, return_abs=False, angle='degrees'):\n",
    "    '''\n",
    "    Calculates the angular difference between two trends.\n",
    "    'return_abs' (boolean) is whether the absolute value of the\n",
    "    difference is to be returned, default False.\n",
    "    'angle' specifies whether the units are in 'degrees' (default)\n",
    "    or 'radians'.\n",
    "    '''\n",
    "    if np.isscalar(trend1) and not np.isscalar(trend2):\n",
    "        trend1 = np.ones(len(trend2)) * trend1\n",
    "    elif np.isscalar(trend2) and not np.isscalar(trend2):\n",
    "        trend2 = np.ones(len(trend1)) * trend2\n",
    "\n",
    "    if angle == 'radians':\n",
    "        trend1 = np.degrees(trend1)\n",
    "        trend2 = np.degrees(trend2)\n",
    "\n",
    "    if np.isscalar(trend1) and np.isscalar(trend2):\n",
    "        diff = angle_difference_scalar(trend1, trend2)\n",
    "    else:\n",
    "        diff = angle_difference_vector(trend1, trend2)\n",
    "\n",
    "    if angle == 'radians':\n",
    "        diff = np.radians(diff)\n",
    "\n",
    "    return diff if return_abs == False else np.abs(diff)\n",
    "\n",
    "\n",
    "def angle_difference_scalar(trend1, trend2):\n",
    "    '''\n",
    "    Angular difference between two trends, in degrees.\n",
    "    '''\n",
    "    difference = trend2 - trend1\n",
    "    while difference < -180:\n",
    "        difference += 360\n",
    "    while difference > 180:\n",
    "        difference -= 360\n",
    "    return difference\n",
    "\n",
    "\n",
    "def angle_difference_vector(trend1_vec, trend2_vec):\n",
    "    '''Angular difference between to vectors of trends, in degrees.'''\n",
    "    trend1_vec = np.array(trend1_vec)\n",
    "    trend2_vec = np.array(trend2_vec)\n",
    "    difference = trend2_vec - trend1_vec\n",
    "    difference[difference < -180] += 360\n",
    "    difference[difference > 180] -= 360\n",
    "    \n",
    "    return difference"
   ]
  },
  {
   "cell_type": "code",
   "execution_count": 72,
   "metadata": {
    "collapsed": false
   },
   "outputs": [
    {
     "data": {
      "text/plain": [
       "{'geometry': {'coordinates': [[[-63078.7116583341, 3368647.63774455, -816.0],\n",
       "    [-56488.0645559977, 3367841.8357556644, 4045.0],\n",
       "    [-56808.9791004168, 3366516.191889601, 4263.0],\n",
       "    [-63078.7116583341, 3368647.63774455, -816.0]]],\n",
       "  'type': 'Polygon'},\n",
       " 'properties': {'POINTA': 36.0,\n",
       "  'POINTB': 9.0,\n",
       "  'POINTC': 8.0,\n",
       "  'area_sq_km': 5.6830856866119914,\n",
       "  'center': [-58791.91843824953, 3367668.5551299383, 2497.3333333333335],\n",
       "  'dip': 37.68134833327008,\n",
       "  'strike': 244.44859892337777},\n",
       " 'type': 'Feature'}"
      ]
     },
     "execution_count": 72,
     "metadata": {},
     "output_type": "execute_result"
    }
   ],
   "source": [
    "gc['features'][100]"
   ]
  },
  {
   "cell_type": "code",
   "execution_count": 73,
   "metadata": {
    "collapsed": false
   },
   "outputs": [],
   "source": [
    "for feat in gc['features']:\n",
    "    prop = feat['properties']\n",
    "    prop['rake'] = rake_from_sd_trend(prop['strike'], prop['dip'], 277,\n",
    "                                      aki_richards=True)\n",
    "    prop['rake_err'] = 10"
   ]
  },
  {
   "cell_type": "code",
   "execution_count": 74,
   "metadata": {
    "collapsed": false
   },
   "outputs": [
    {
     "data": {
      "text/plain": [
       "{'geometry': {'coordinates': [[[-63078.7116583341, 3368647.63774455, -816.0],\n",
       "    [-56488.0645559977, 3367841.8357556644, 4045.0],\n",
       "    [-56808.9791004168, 3366516.191889601, 4263.0],\n",
       "    [-63078.7116583341, 3368647.63774455, -816.0]]],\n",
       "  'type': 'Polygon'},\n",
       " 'properties': {'POINTA': 36.0,\n",
       "  'POINTB': 9.0,\n",
       "  'POINTC': 8.0,\n",
       "  'area_sq_km': 5.6830856866119914,\n",
       "  'center': [-58791.91843824953, 3367668.5551299383, 2497.3333333333335],\n",
       "  'dip': 37.68134833327008,\n",
       "  'rake': -38.888365294432063,\n",
       "  'rake_err': 10,\n",
       "  'strike': 244.44859892337777},\n",
       " 'type': 'Feature'}"
      ]
     },
     "execution_count": 74,
     "metadata": {},
     "output_type": "execute_result"
    }
   ],
   "source": [
    "gc['features'][100]"
   ]
  },
  {
   "cell_type": "markdown",
   "metadata": {},
   "source": [
    "### average stresses at points and center to get values per tri\n",
    "- get points df (only coords)\n",
    "- get tensorial stresses at points\n",
    "- average\n",
    "- make new fault_df w/ averages and geom for each tri\n",
    "- do regular inversion from there"
   ]
  },
  {
   "cell_type": "code",
   "execution_count": 75,
   "metadata": {
    "collapsed": false
   },
   "outputs": [],
   "source": [
    "import sys\n",
    "from importlib import reload\n",
    "sys.path.append('../../scripts/')\n",
    "import utils\n"
   ]
  },
  {
   "cell_type": "code",
   "execution_count": 76,
   "metadata": {
    "collapsed": false
   },
   "outputs": [
    {
     "data": {
      "text/plain": [
       "<module 'utils' from '../../scripts/utils.py'>"
      ]
     },
     "execution_count": 76,
     "metadata": {},
     "output_type": "execute_result"
    }
   ],
   "source": [
    "reload(utils)"
   ]
  },
  {
   "cell_type": "code",
   "execution_count": 59,
   "metadata": {
    "collapsed": false
   },
   "outputs": [
    {
     "data": {
      "text/html": [
       "<div>\n",
       "<table border=\"1\" class=\"dataframe\">\n",
       "  <thead>\n",
       "    <tr style=\"text-align: right;\">\n",
       "      <th></th>\n",
       "      <th></th>\n",
       "      <th>x</th>\n",
       "      <th>y</th>\n",
       "      <th>z</th>\n",
       "    </tr>\n",
       "    <tr>\n",
       "      <th>tri</th>\n",
       "      <th>vertex</th>\n",
       "      <th></th>\n",
       "      <th></th>\n",
       "      <th></th>\n",
       "    </tr>\n",
       "  </thead>\n",
       "  <tbody>\n",
       "    <tr>\n",
       "      <th rowspan=\"4\" valign=\"top\">0</th>\n",
       "      <th>a</th>\n",
       "      <td>-55783.58</td>\n",
       "      <td>3342717</td>\n",
       "      <td>-14985</td>\n",
       "    </tr>\n",
       "    <tr>\n",
       "      <th>b</th>\n",
       "      <td>-54677.9</td>\n",
       "      <td>3339939</td>\n",
       "      <td>-19768</td>\n",
       "    </tr>\n",
       "    <tr>\n",
       "      <th>c</th>\n",
       "      <td>-56725.9</td>\n",
       "      <td>3341332</td>\n",
       "      <td>-19747</td>\n",
       "    </tr>\n",
       "    <tr>\n",
       "      <th>m</th>\n",
       "      <td>-55729.13</td>\n",
       "      <td>3341329</td>\n",
       "      <td>-18166.67</td>\n",
       "    </tr>\n",
       "  </tbody>\n",
       "</table>\n",
       "</div>"
      ],
      "text/plain": [
       "                   x        y         z\n",
       "tri vertex                             \n",
       "0   a      -55783.58  3342717    -14985\n",
       "    b       -54677.9  3339939    -19768\n",
       "    c       -56725.9  3341332    -19747\n",
       "    m      -55729.13  3341329 -18166.67"
      ]
     },
     "execution_count": 59,
     "metadata": {},
     "output_type": "execute_result"
    }
   ],
   "source": []
  },
  {
   "cell_type": "code",
   "execution_count": 77,
   "metadata": {
    "collapsed": false
   },
   "outputs": [],
   "source": [
    "gurla_pts_df = utils.tri_dict_to_df(gc, fault_name='gurla')"
   ]
  },
  {
   "cell_type": "code",
   "execution_count": 78,
   "metadata": {
    "collapsed": true
   },
   "outputs": [],
   "source": [
    "gurla_pts_df.to_csv('../data/fault_data/gurla_pts_df.csv')"
   ]
  },
  {
   "cell_type": "code",
   "execution_count": 79,
   "metadata": {
    "collapsed": false
   },
   "outputs": [
    {
     "data": {
      "text/plain": [
       "{'geometry': {'coordinates': [[[-55783.583006836, 3342716.71580536, -14985.0],\n",
       "    [-54677.8965490291, 3339938.7432105276, -19768.0],\n",
       "    [-56725.8969340146, 3341331.705430983, -19747.0],\n",
       "    [-55783.583006836, 3342716.71580536, -14985.0]]],\n",
       "  'type': 'Polygon'},\n",
       " 'properties': {'POINTA': 130.0,\n",
       "  'POINTB': 204.0,\n",
       "  'POINTC': 203.0,\n",
       "  'area_sq_km': 6.2515942816401573,\n",
       "  'center': [-55729.12549662657, 3341329.0548156234, -18166.666666666668],\n",
       "  'dip': 70.619256263885447,\n",
       "  'rake': 73.88142642292091,\n",
       "  'rake_err': 10,\n",
       "  'strike': 325.94902891533388},\n",
       " 'type': 'Feature'}"
      ]
     },
     "execution_count": 79,
     "metadata": {},
     "output_type": "execute_result"
    }
   ],
   "source": [
    "gc['features'][0]"
   ]
  },
  {
   "cell_type": "code",
   "execution_count": 80,
   "metadata": {
    "collapsed": false
   },
   "outputs": [],
   "source": [
    "with open('../data/fault_data/gurla_tris.geojson', 'w') as f:\n",
    "    json.dump(gc, f)"
   ]
  },
  {
   "cell_type": "code",
   "execution_count": null,
   "metadata": {
    "collapsed": true
   },
   "outputs": [],
   "source": []
  }
 ],
 "metadata": {
  "kernelspec": {
   "display_name": "Python 3",
   "language": "python",
   "name": "python3"
  },
  "language_info": {
   "codemirror_mode": {
    "name": "ipython",
    "version": 3
   },
   "file_extension": ".py",
   "mimetype": "text/x-python",
   "name": "python",
   "nbconvert_exporter": "python",
   "pygments_lexer": "ipython3",
   "version": "3.4.3"
  }
 },
 "nbformat": 4,
 "nbformat_minor": 0
}
