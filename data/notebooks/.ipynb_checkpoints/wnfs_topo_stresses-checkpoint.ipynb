{
 "cells": [
  {
   "cell_type": "code",
   "execution_count": 2,
   "metadata": {
    "collapsed": false
   },
   "outputs": [],
   "source": [
    "import numpy as np\n",
    "import pandas as pd\n",
    "import json\n",
    "import halfspace.projections as hsp\n",
    "from halfspace.scripts import *"
   ]
  },
  {
   "cell_type": "markdown",
   "metadata": {},
   "source": [
    "- load point dataframes\n",
    "- load geojson tris\n",
    "- get point stresses\n",
    "- average\n",
    "- make new df of average stresses, using tri center coords\n",
    "- merge w/ other fault df(s)"
   ]
  },
  {
   "cell_type": "code",
   "execution_count": 3,
   "metadata": {
    "collapsed": true
   },
   "outputs": [],
   "source": [
    "tib_dog_pts = pd.read_csv('../data/fault_data/tib_dog_pts_df.csv')\n",
    "gurla_pts = pd.read_csv('../data/fault_data/gurla_pts_df.csv')"
   ]
  },
  {
   "cell_type": "code",
   "execution_count": 12,
   "metadata": {
    "collapsed": false
   },
   "outputs": [],
   "source": [
    "tdg_pts = pd.concat((tib_dog_pts, gurla_pts), axis=0, ignore_index=True)\n",
    "\n",
    "tdg_pts.columns = ['tri', 'vertex', 'east', 'north', 'depth', 'fault_name']"
   ]
  },
  {
   "cell_type": "code",
   "execution_count": 13,
   "metadata": {
    "collapsed": false
   },
   "outputs": [
    {
     "data": {
      "text/html": [
       "<div>\n",
       "<table border=\"1\" class=\"dataframe\">\n",
       "  <thead>\n",
       "    <tr style=\"text-align: right;\">\n",
       "      <th></th>\n",
       "      <th>tri</th>\n",
       "      <th>vertex</th>\n",
       "      <th>east</th>\n",
       "      <th>north</th>\n",
       "      <th>depth</th>\n",
       "      <th>fault_name</th>\n",
       "    </tr>\n",
       "  </thead>\n",
       "  <tbody>\n",
       "    <tr>\n",
       "      <th>2931</th>\n",
       "      <td>340</td>\n",
       "      <td>m</td>\n",
       "      <td>-54140.576926</td>\n",
       "      <td>3406463.683422</td>\n",
       "      <td>-18788.333333</td>\n",
       "      <td>gurla</td>\n",
       "    </tr>\n",
       "    <tr>\n",
       "      <th>2932</th>\n",
       "      <td>341</td>\n",
       "      <td>a</td>\n",
       "      <td>-57886.265887</td>\n",
       "      <td>3407087.521804</td>\n",
       "      <td>-20455.000000</td>\n",
       "      <td>gurla</td>\n",
       "    </tr>\n",
       "    <tr>\n",
       "      <th>2933</th>\n",
       "      <td>341</td>\n",
       "      <td>b</td>\n",
       "      <td>-54899.206517</td>\n",
       "      <td>3407362.546041</td>\n",
       "      <td>-20455.000000</td>\n",
       "      <td>gurla</td>\n",
       "    </tr>\n",
       "    <tr>\n",
       "      <th>2934</th>\n",
       "      <td>341</td>\n",
       "      <td>c</td>\n",
       "      <td>-55140.956705</td>\n",
       "      <td>3405082.406588</td>\n",
       "      <td>-15455.000000</td>\n",
       "      <td>gurla</td>\n",
       "    </tr>\n",
       "    <tr>\n",
       "      <th>2935</th>\n",
       "      <td>341</td>\n",
       "      <td>m</td>\n",
       "      <td>-55975.476370</td>\n",
       "      <td>3406510.824811</td>\n",
       "      <td>-18788.333333</td>\n",
       "      <td>gurla</td>\n",
       "    </tr>\n",
       "  </tbody>\n",
       "</table>\n",
       "</div>"
      ],
      "text/plain": [
       "      tri vertex          east           north         depth fault_name\n",
       "2931  340      m -54140.576926  3406463.683422 -18788.333333      gurla\n",
       "2932  341      a -57886.265887  3407087.521804 -20455.000000      gurla\n",
       "2933  341      b -54899.206517  3407362.546041 -20455.000000      gurla\n",
       "2934  341      c -55140.956705  3405082.406588 -15455.000000      gurla\n",
       "2935  341      m -55975.476370  3406510.824811 -18788.333333      gurla"
      ]
     },
     "execution_count": 13,
     "metadata": {},
     "output_type": "execute_result"
    }
   ],
   "source": [
    "tdg_pts.tail()"
   ]
  },
  {
   "cell_type": "code",
   "execution_count": 8,
   "metadata": {
    "collapsed": true
   },
   "outputs": [],
   "source": [
    "with open('../data/fault_data/tib_dog_tris.geojson') as f:\n",
    "    tdt = json.load(f)\n",
    "    \n",
    "with open('../data/fault_data/gurla_tris.geojson') as f:\n",
    "    gt = json.load(f)"
   ]
  },
  {
   "cell_type": "code",
   "execution_count": 17,
   "metadata": {
    "collapsed": true
   },
   "outputs": [],
   "source": [
    "stress_file = '../../../nepal_2015/stress_arrays/nepal_topo_stress.h5'\n",
    "stress_meta_file = '../../../nepal_2015/stress_arrays/stress_calcs_meta.json'\n",
    "dem_meta_file = '../../../nepal_2015/data/dem/s_tibet_dem_meta.json'"
   ]
  },
  {
   "cell_type": "code",
   "execution_count": 18,
   "metadata": {
    "collapsed": false
   },
   "outputs": [
    {
     "name": "stdout",
     "output_type": "stream",
     "text": [
      "interpolating zz stresses\n",
      "interpolating xy stresses\n",
      "interpolating xz stresses\n",
      "interpolating yz stresses\n",
      "interpolating xx stresses\n",
      "interpolating yy stresses\n"
     ]
    }
   ],
   "source": [
    "tdg = calc_topo_stresses_at_pts(tdg_pts, stress_file=stress_file,\n",
    "                                dem_meta_file=dem_meta_file,\n",
    "                                stress_meta_file=stress_meta_file,\n",
    "                                resolve_stresses=False)"
   ]
  },
  {
   "cell_type": "code",
   "execution_count": 19,
   "metadata": {
    "collapsed": false,
    "scrolled": true
   },
   "outputs": [
    {
     "data": {
      "text/html": [
       "<div>\n",
       "<table border=\"1\" class=\"dataframe\">\n",
       "  <thead>\n",
       "    <tr style=\"text-align: right;\">\n",
       "      <th></th>\n",
       "      <th>tri</th>\n",
       "      <th>vertex</th>\n",
       "      <th>east</th>\n",
       "      <th>north</th>\n",
       "      <th>depth</th>\n",
       "      <th>fault_name</th>\n",
       "      <th>zz_stress</th>\n",
       "      <th>xy_stress</th>\n",
       "      <th>xz_stress</th>\n",
       "      <th>yz_stress</th>\n",
       "      <th>xx_stress</th>\n",
       "      <th>yy_stress</th>\n",
       "    </tr>\n",
       "  </thead>\n",
       "  <tbody>\n",
       "    <tr>\n",
       "      <th>0</th>\n",
       "      <td>0</td>\n",
       "      <td>a</td>\n",
       "      <td>124496.100000</td>\n",
       "      <td>3172901.700000</td>\n",
       "      <td>4000.000000</td>\n",
       "      <td>tib_dog</td>\n",
       "      <td>0</td>\n",
       "      <td>0</td>\n",
       "      <td>0</td>\n",
       "      <td>0</td>\n",
       "      <td>0</td>\n",
       "      <td>0</td>\n",
       "    </tr>\n",
       "    <tr>\n",
       "      <th>1</th>\n",
       "      <td>0</td>\n",
       "      <td>b</td>\n",
       "      <td>125070.300000</td>\n",
       "      <td>3172690.800000</td>\n",
       "      <td>3743.000000</td>\n",
       "      <td>tib_dog</td>\n",
       "      <td>0</td>\n",
       "      <td>0</td>\n",
       "      <td>0</td>\n",
       "      <td>0</td>\n",
       "      <td>0</td>\n",
       "      <td>0</td>\n",
       "    </tr>\n",
       "    <tr>\n",
       "      <th>2</th>\n",
       "      <td>0</td>\n",
       "      <td>c</td>\n",
       "      <td>124256.800000</td>\n",
       "      <td>3172817.900000</td>\n",
       "      <td>4156.000000</td>\n",
       "      <td>tib_dog</td>\n",
       "      <td>0</td>\n",
       "      <td>0</td>\n",
       "      <td>0</td>\n",
       "      <td>0</td>\n",
       "      <td>0</td>\n",
       "      <td>0</td>\n",
       "    </tr>\n",
       "    <tr>\n",
       "      <th>3</th>\n",
       "      <td>0</td>\n",
       "      <td>m</td>\n",
       "      <td>124607.733333</td>\n",
       "      <td>3172803.466667</td>\n",
       "      <td>3966.333333</td>\n",
       "      <td>tib_dog</td>\n",
       "      <td>0</td>\n",
       "      <td>0</td>\n",
       "      <td>0</td>\n",
       "      <td>0</td>\n",
       "      <td>0</td>\n",
       "      <td>0</td>\n",
       "    </tr>\n",
       "    <tr>\n",
       "      <th>4</th>\n",
       "      <td>1</td>\n",
       "      <td>a</td>\n",
       "      <td>124058.100000</td>\n",
       "      <td>3173298.000000</td>\n",
       "      <td>4000.000000</td>\n",
       "      <td>tib_dog</td>\n",
       "      <td>0</td>\n",
       "      <td>0</td>\n",
       "      <td>0</td>\n",
       "      <td>0</td>\n",
       "      <td>0</td>\n",
       "      <td>0</td>\n",
       "    </tr>\n",
       "  </tbody>\n",
       "</table>\n",
       "</div>"
      ],
      "text/plain": [
       "   tri vertex           east           north        depth fault_name  \\\n",
       "0    0      a  124496.100000  3172901.700000  4000.000000    tib_dog   \n",
       "1    0      b  125070.300000  3172690.800000  3743.000000    tib_dog   \n",
       "2    0      c  124256.800000  3172817.900000  4156.000000    tib_dog   \n",
       "3    0      m  124607.733333  3172803.466667  3966.333333    tib_dog   \n",
       "4    1      a  124058.100000  3173298.000000  4000.000000    tib_dog   \n",
       "\n",
       "   zz_stress  xy_stress  xz_stress  yz_stress  xx_stress  yy_stress  \n",
       "0          0          0          0          0          0          0  \n",
       "1          0          0          0          0          0          0  \n",
       "2          0          0          0          0          0          0  \n",
       "3          0          0          0          0          0          0  \n",
       "4          0          0          0          0          0          0  "
      ]
     },
     "execution_count": 19,
     "metadata": {},
     "output_type": "execute_result"
    }
   ],
   "source": [
    "tdg.head()"
   ]
  },
  {
   "cell_type": "code",
   "execution_count": 42,
   "metadata": {
    "collapsed": false
   },
   "outputs": [],
   "source": [
    "tdg_avg = tdg.groupby(('fault_name', 'tri')).mean()[['zz_stress',\n",
    "                                                     'xy_stress',\n",
    "                                           'xz_stress','yz_stress',\n",
    "                                           'xx_stress','yy_stress']]"
   ]
  },
  {
   "cell_type": "code",
   "execution_count": 43,
   "metadata": {
    "collapsed": false
   },
   "outputs": [
    {
     "data": {
      "text/html": [
       "<div>\n",
       "<table border=\"1\" class=\"dataframe\">\n",
       "  <thead>\n",
       "    <tr style=\"text-align: right;\">\n",
       "      <th></th>\n",
       "      <th></th>\n",
       "      <th>zz_stress</th>\n",
       "      <th>xy_stress</th>\n",
       "      <th>xz_stress</th>\n",
       "      <th>yz_stress</th>\n",
       "      <th>xx_stress</th>\n",
       "      <th>yy_stress</th>\n",
       "    </tr>\n",
       "    <tr>\n",
       "      <th>fault_name</th>\n",
       "      <th>tri</th>\n",
       "      <th></th>\n",
       "      <th></th>\n",
       "      <th></th>\n",
       "      <th></th>\n",
       "      <th></th>\n",
       "      <th></th>\n",
       "    </tr>\n",
       "  </thead>\n",
       "  <tbody>\n",
       "    <tr>\n",
       "      <th rowspan=\"5\" valign=\"top\">gurla</th>\n",
       "      <th>0</th>\n",
       "      <td>122.365046</td>\n",
       "      <td>1.262838</td>\n",
       "      <td>-3.130255</td>\n",
       "      <td>-7.833799</td>\n",
       "      <td>67.215418</td>\n",
       "      <td>67.963298</td>\n",
       "    </tr>\n",
       "    <tr>\n",
       "      <th>1</th>\n",
       "      <td>122.802498</td>\n",
       "      <td>1.562838</td>\n",
       "      <td>-2.546067</td>\n",
       "      <td>-7.169587</td>\n",
       "      <td>68.833418</td>\n",
       "      <td>69.845652</td>\n",
       "    </tr>\n",
       "    <tr>\n",
       "      <th>2</th>\n",
       "      <td>123.452559</td>\n",
       "      <td>2.246759</td>\n",
       "      <td>-1.578494</td>\n",
       "      <td>-5.545806</td>\n",
       "      <td>72.404882</td>\n",
       "      <td>74.020897</td>\n",
       "    </tr>\n",
       "    <tr>\n",
       "      <th>3</th>\n",
       "      <td>123.926082</td>\n",
       "      <td>2.731499</td>\n",
       "      <td>-1.128569</td>\n",
       "      <td>-4.596917</td>\n",
       "      <td>74.340048</td>\n",
       "      <td>76.356889</td>\n",
       "    </tr>\n",
       "    <tr>\n",
       "      <th>4</th>\n",
       "      <td>122.374934</td>\n",
       "      <td>1.156617</td>\n",
       "      <td>-3.483587</td>\n",
       "      <td>-7.801336</td>\n",
       "      <td>66.988821</td>\n",
       "      <td>67.718253</td>\n",
       "    </tr>\n",
       "  </tbody>\n",
       "</table>\n",
       "</div>"
      ],
      "text/plain": [
       "                 zz_stress  xy_stress  xz_stress  yz_stress  xx_stress  \\\n",
       "fault_name tri                                                           \n",
       "gurla      0    122.365046   1.262838  -3.130255  -7.833799  67.215418   \n",
       "           1    122.802498   1.562838  -2.546067  -7.169587  68.833418   \n",
       "           2    123.452559   2.246759  -1.578494  -5.545806  72.404882   \n",
       "           3    123.926082   2.731499  -1.128569  -4.596917  74.340048   \n",
       "           4    122.374934   1.156617  -3.483587  -7.801336  66.988821   \n",
       "\n",
       "                yy_stress  \n",
       "fault_name tri             \n",
       "gurla      0    67.963298  \n",
       "           1    69.845652  \n",
       "           2    74.020897  \n",
       "           3    76.356889  \n",
       "           4    67.718253  "
      ]
     },
     "execution_count": 43,
     "metadata": {},
     "output_type": "execute_result"
    }
   ],
   "source": [
    "tdg_avg.head()"
   ]
  },
  {
   "cell_type": "code",
   "execution_count": 44,
   "metadata": {
    "collapsed": false
   },
   "outputs": [],
   "source": [
    "tdg_avg['i'] = range(tdg_avg.shape[0])\n",
    "tdg_avg['fault_name'],tdg_avg['tri'] = zip(*tdg_avg.index.values)"
   ]
  },
  {
   "cell_type": "code",
   "execution_count": 45,
   "metadata": {
    "collapsed": false
   },
   "outputs": [],
   "source": [
    "tdg_avg.set_index('i', inplace=True)"
   ]
  },
  {
   "cell_type": "code",
   "execution_count": 49,
   "metadata": {
    "collapsed": false
   },
   "outputs": [
    {
     "data": {
      "text/plain": [
       "(    zz_stress  xy_stress  xz_stress  yz_stress  xx_stress  yy_stress  \\\n",
       " i                                                                      \n",
       " 0  122.365046   1.262838  -3.130255  -7.833799  67.215418  67.963298   \n",
       " 1  122.802498   1.562838  -2.546067  -7.169587  68.833418  69.845652   \n",
       " 2  123.452559   2.246759  -1.578494  -5.545806  72.404882  74.020897   \n",
       " 3  123.926082   2.731499  -1.128569  -4.596917  74.340048  76.356889   \n",
       " 4  122.374934   1.156617  -3.483587  -7.801336  66.988821  67.718253   \n",
       " \n",
       "   fault_name  tri  \n",
       " i                  \n",
       " 0      gurla    0  \n",
       " 1      gurla    1  \n",
       " 2      gurla    2  \n",
       " 3      gurla    3  \n",
       " 4      gurla    4  ,\n",
       "       zz_stress  xy_stress  xz_stress  yz_stress  xx_stress  yy_stress  \\\n",
       " i                                                                        \n",
       " 729  102.925521  -0.030489  -7.277902 -10.392833  72.365598  74.368759   \n",
       " 730  101.775826  -0.468165  -2.945500 -10.891380  73.363035  77.416506   \n",
       " 731  100.918067  -0.009567  -4.248177 -10.401864  73.603741  76.640471   \n",
       " 732  101.976276   0.130320  -5.909874 -10.411796  72.501793  74.848722   \n",
       " 733  103.119852   0.064570  -6.424231 -10.678737  71.582790  73.881284   \n",
       " \n",
       "     fault_name  tri  \n",
       " i                    \n",
       " 729    tib_dog  387  \n",
       " 730    tib_dog  388  \n",
       " 731    tib_dog  389  \n",
       " 732    tib_dog  390  \n",
       " 733    tib_dog  391  )"
      ]
     },
     "execution_count": 49,
     "metadata": {},
     "output_type": "execute_result"
    }
   ],
   "source": [
    "tdg_avg.head(), tdg_avg.tail()"
   ]
  },
  {
   "cell_type": "code",
   "execution_count": 50,
   "metadata": {
    "collapsed": true
   },
   "outputs": [],
   "source": [
    "fd = {'gurla': gt, 'tib_dog':tdt} # fault dict"
   ]
  },
  {
   "cell_type": "code",
   "execution_count": 51,
   "metadata": {
    "collapsed": false
   },
   "outputs": [
    {
     "data": {
      "text/plain": [
       "{'geometry': {'coordinates': [[[-55783.583006836, 3342716.71580536, -14985.0],\n",
       "    [-54677.8965490291, 3339938.7432105276, -19768.0],\n",
       "    [-56725.8969340146, 3341331.705430983, -19747.0],\n",
       "    [-55783.583006836, 3342716.71580536, -14985.0]]],\n",
       "  'type': 'Polygon'},\n",
       " 'properties': {'POINTA': 130.0,\n",
       "  'POINTB': 204.0,\n",
       "  'POINTC': 203.0,\n",
       "  'area_sq_km': 6.251594281640157,\n",
       "  'center': [-55729.12549662657, 3341329.0548156234, -18166.666666666668],\n",
       "  'dip': 70.61925626388545,\n",
       "  'rake': 73.88142642292091,\n",
       "  'rake_err': 10,\n",
       "  'strike': 325.9490289153339},\n",
       " 'type': 'Feature'}"
      ]
     },
     "execution_count": 51,
     "metadata": {},
     "output_type": "execute_result"
    }
   ],
   "source": [
    "gt['features'][0]"
   ]
  },
  {
   "cell_type": "code",
   "execution_count": 52,
   "metadata": {
    "collapsed": true
   },
   "outputs": [],
   "source": [
    "def get_row(row):\n",
    "    g = fd[row.fault_name]\n",
    "    p = g['features'][row.tri]['properties']\n",
    "    o = {}\n",
    "    o['east'], o['north'], o['depth'] = p['center']\n",
    "    o['strike'] = p['strike']\n",
    "    o['dip'] = p['dip']\n",
    "    o['rake'] = p['rake']\n",
    "    \n",
    "    return pd.Series(o)"
   ]
  },
  {
   "cell_type": "code",
   "execution_count": 54,
   "metadata": {
    "collapsed": false
   },
   "outputs": [
    {
     "data": {
      "text/plain": [
       "depth      -18166.666667\n",
       "dip            70.619256\n",
       "east       -55729.125497\n",
       "north     3341329.054816\n",
       "rake           73.881426\n",
       "strike        325.949029\n",
       "dtype: float64"
      ]
     },
     "execution_count": 54,
     "metadata": {},
     "output_type": "execute_result"
    }
   ],
   "source": [
    "get_row(tdg_avg.iloc[0])"
   ]
  },
  {
   "cell_type": "code",
   "execution_count": 61,
   "metadata": {
    "collapsed": false
   },
   "outputs": [
    {
     "data": {
      "text/html": [
       "<div>\n",
       "<table border=\"1\" class=\"dataframe\">\n",
       "  <thead>\n",
       "    <tr style=\"text-align: right;\">\n",
       "      <th></th>\n",
       "      <th>depth</th>\n",
       "      <th>dip</th>\n",
       "      <th>east</th>\n",
       "      <th>north</th>\n",
       "      <th>rake</th>\n",
       "      <th>strike</th>\n",
       "    </tr>\n",
       "    <tr>\n",
       "      <th>i</th>\n",
       "      <th></th>\n",
       "      <th></th>\n",
       "      <th></th>\n",
       "      <th></th>\n",
       "      <th></th>\n",
       "      <th></th>\n",
       "    </tr>\n",
       "  </thead>\n",
       "  <tbody>\n",
       "    <tr>\n",
       "      <th>0</th>\n",
       "      <td>-18166.666667</td>\n",
       "      <td>70.619256</td>\n",
       "      <td>-55729.125497</td>\n",
       "      <td>3341329.054816</td>\n",
       "      <td>73.881426</td>\n",
       "      <td>325.949029</td>\n",
       "    </tr>\n",
       "    <tr>\n",
       "      <th>1</th>\n",
       "      <td>-16527.333333</td>\n",
       "      <td>73.934283</td>\n",
       "      <td>-54657.964479</td>\n",
       "      <td>3341155.562365</td>\n",
       "      <td>72.991457</td>\n",
       "      <td>319.135403</td>\n",
       "    </tr>\n",
       "    <tr>\n",
       "      <th>2</th>\n",
       "      <td>-13288.333333</td>\n",
       "      <td>68.460230</td>\n",
       "      <td>-53918.655475</td>\n",
       "      <td>3341974.752790</td>\n",
       "      <td>67.685005</td>\n",
       "      <td>318.813582</td>\n",
       "    </tr>\n",
       "    <tr>\n",
       "      <th>3</th>\n",
       "      <td>-11725.000000</td>\n",
       "      <td>69.749617</td>\n",
       "      <td>-54321.288308</td>\n",
       "      <td>3343089.493691</td>\n",
       "      <td>70.570696</td>\n",
       "      <td>321.458319</td>\n",
       "    </tr>\n",
       "    <tr>\n",
       "      <th>4</th>\n",
       "      <td>-18510.000000</td>\n",
       "      <td>70.715283</td>\n",
       "      <td>-57216.150551</td>\n",
       "      <td>3342311.810013</td>\n",
       "      <td>70.394943</td>\n",
       "      <td>319.837489</td>\n",
       "    </tr>\n",
       "  </tbody>\n",
       "</table>\n",
       "</div>"
      ],
      "text/plain": [
       "          depth        dip          east           north       rake  \\\n",
       "i                                                                     \n",
       "0 -18166.666667  70.619256 -55729.125497  3341329.054816  73.881426   \n",
       "1 -16527.333333  73.934283 -54657.964479  3341155.562365  72.991457   \n",
       "2 -13288.333333  68.460230 -53918.655475  3341974.752790  67.685005   \n",
       "3 -11725.000000  69.749617 -54321.288308  3343089.493691  70.570696   \n",
       "4 -18510.000000  70.715283 -57216.150551  3342311.810013  70.394943   \n",
       "\n",
       "       strike  \n",
       "i              \n",
       "0  325.949029  \n",
       "1  319.135403  \n",
       "2  318.813582  \n",
       "3  321.458319  \n",
       "4  319.837489  "
      ]
     },
     "execution_count": 61,
     "metadata": {},
     "output_type": "execute_result"
    }
   ],
   "source": [
    "tdg_avg.apply(get_row, axis=1).head()"
   ]
  },
  {
   "cell_type": "code",
   "execution_count": 66,
   "metadata": {
    "collapsed": false
   },
   "outputs": [],
   "source": [
    "tri_stress = pd.merge(tdg_avg, tdg_avg.apply(get_row, axis=1),\n",
    "                       left_index=True, right_index=True)"
   ]
  },
  {
   "cell_type": "code",
   "execution_count": 67,
   "metadata": {
    "collapsed": false
   },
   "outputs": [
    {
     "data": {
      "text/html": [
       "<div>\n",
       "<table border=\"1\" class=\"dataframe\">\n",
       "  <thead>\n",
       "    <tr style=\"text-align: right;\">\n",
       "      <th></th>\n",
       "      <th>zz_stress</th>\n",
       "      <th>xy_stress</th>\n",
       "      <th>xz_stress</th>\n",
       "      <th>yz_stress</th>\n",
       "      <th>xx_stress</th>\n",
       "      <th>yy_stress</th>\n",
       "      <th>fault_name</th>\n",
       "      <th>tri</th>\n",
       "      <th>depth</th>\n",
       "      <th>dip</th>\n",
       "      <th>east</th>\n",
       "      <th>north</th>\n",
       "      <th>rake</th>\n",
       "      <th>strike</th>\n",
       "    </tr>\n",
       "    <tr>\n",
       "      <th>i</th>\n",
       "      <th></th>\n",
       "      <th></th>\n",
       "      <th></th>\n",
       "      <th></th>\n",
       "      <th></th>\n",
       "      <th></th>\n",
       "      <th></th>\n",
       "      <th></th>\n",
       "      <th></th>\n",
       "      <th></th>\n",
       "      <th></th>\n",
       "      <th></th>\n",
       "      <th></th>\n",
       "      <th></th>\n",
       "    </tr>\n",
       "  </thead>\n",
       "  <tbody>\n",
       "    <tr>\n",
       "      <th>0</th>\n",
       "      <td>122.365046</td>\n",
       "      <td>1.262838</td>\n",
       "      <td>-3.130255</td>\n",
       "      <td>-7.833799</td>\n",
       "      <td>67.215418</td>\n",
       "      <td>67.963298</td>\n",
       "      <td>gurla</td>\n",
       "      <td>0</td>\n",
       "      <td>-18166.666667</td>\n",
       "      <td>70.619256</td>\n",
       "      <td>-55729.125497</td>\n",
       "      <td>3341329.054816</td>\n",
       "      <td>73.881426</td>\n",
       "      <td>325.949029</td>\n",
       "    </tr>\n",
       "    <tr>\n",
       "      <th>1</th>\n",
       "      <td>122.802498</td>\n",
       "      <td>1.562838</td>\n",
       "      <td>-2.546067</td>\n",
       "      <td>-7.169587</td>\n",
       "      <td>68.833418</td>\n",
       "      <td>69.845652</td>\n",
       "      <td>gurla</td>\n",
       "      <td>1</td>\n",
       "      <td>-16527.333333</td>\n",
       "      <td>73.934283</td>\n",
       "      <td>-54657.964479</td>\n",
       "      <td>3341155.562365</td>\n",
       "      <td>72.991457</td>\n",
       "      <td>319.135403</td>\n",
       "    </tr>\n",
       "    <tr>\n",
       "      <th>2</th>\n",
       "      <td>123.452559</td>\n",
       "      <td>2.246759</td>\n",
       "      <td>-1.578494</td>\n",
       "      <td>-5.545806</td>\n",
       "      <td>72.404882</td>\n",
       "      <td>74.020897</td>\n",
       "      <td>gurla</td>\n",
       "      <td>2</td>\n",
       "      <td>-13288.333333</td>\n",
       "      <td>68.460230</td>\n",
       "      <td>-53918.655475</td>\n",
       "      <td>3341974.752790</td>\n",
       "      <td>67.685005</td>\n",
       "      <td>318.813582</td>\n",
       "    </tr>\n",
       "    <tr>\n",
       "      <th>3</th>\n",
       "      <td>123.926082</td>\n",
       "      <td>2.731499</td>\n",
       "      <td>-1.128569</td>\n",
       "      <td>-4.596917</td>\n",
       "      <td>74.340048</td>\n",
       "      <td>76.356889</td>\n",
       "      <td>gurla</td>\n",
       "      <td>3</td>\n",
       "      <td>-11725.000000</td>\n",
       "      <td>69.749617</td>\n",
       "      <td>-54321.288308</td>\n",
       "      <td>3343089.493691</td>\n",
       "      <td>70.570696</td>\n",
       "      <td>321.458319</td>\n",
       "    </tr>\n",
       "    <tr>\n",
       "      <th>4</th>\n",
       "      <td>122.374934</td>\n",
       "      <td>1.156617</td>\n",
       "      <td>-3.483587</td>\n",
       "      <td>-7.801336</td>\n",
       "      <td>66.988821</td>\n",
       "      <td>67.718253</td>\n",
       "      <td>gurla</td>\n",
       "      <td>4</td>\n",
       "      <td>-18510.000000</td>\n",
       "      <td>70.715283</td>\n",
       "      <td>-57216.150551</td>\n",
       "      <td>3342311.810013</td>\n",
       "      <td>70.394943</td>\n",
       "      <td>319.837489</td>\n",
       "    </tr>\n",
       "  </tbody>\n",
       "</table>\n",
       "</div>"
      ],
      "text/plain": [
       "    zz_stress  xy_stress  xz_stress  yz_stress  xx_stress  yy_stress  \\\n",
       "i                                                                      \n",
       "0  122.365046   1.262838  -3.130255  -7.833799  67.215418  67.963298   \n",
       "1  122.802498   1.562838  -2.546067  -7.169587  68.833418  69.845652   \n",
       "2  123.452559   2.246759  -1.578494  -5.545806  72.404882  74.020897   \n",
       "3  123.926082   2.731499  -1.128569  -4.596917  74.340048  76.356889   \n",
       "4  122.374934   1.156617  -3.483587  -7.801336  66.988821  67.718253   \n",
       "\n",
       "  fault_name  tri         depth        dip          east           north  \\\n",
       "i                                                                          \n",
       "0      gurla    0 -18166.666667  70.619256 -55729.125497  3341329.054816   \n",
       "1      gurla    1 -16527.333333  73.934283 -54657.964479  3341155.562365   \n",
       "2      gurla    2 -13288.333333  68.460230 -53918.655475  3341974.752790   \n",
       "3      gurla    3 -11725.000000  69.749617 -54321.288308  3343089.493691   \n",
       "4      gurla    4 -18510.000000  70.715283 -57216.150551  3342311.810013   \n",
       "\n",
       "        rake      strike  \n",
       "i                         \n",
       "0  73.881426  325.949029  \n",
       "1  72.991457  319.135403  \n",
       "2  67.685005  318.813582  \n",
       "3  70.570696  321.458319  \n",
       "4  70.394943  319.837489  "
      ]
     },
     "execution_count": 67,
     "metadata": {},
     "output_type": "execute_result"
    }
   ],
   "source": [
    "tri_stress.head()"
   ]
  },
  {
   "cell_type": "code",
   "execution_count": 70,
   "metadata": {
    "collapsed": false
   },
   "outputs": [],
   "source": [
    "tri_stress.rename(columns={'tri':'point_index'}, inplace=True)"
   ]
  },
  {
   "cell_type": "code",
   "execution_count": 71,
   "metadata": {
    "collapsed": true
   },
   "outputs": [],
   "source": [
    "tri_stress = resolve_stresses(tri_stress)"
   ]
  },
  {
   "cell_type": "code",
   "execution_count": 73,
   "metadata": {
    "collapsed": false
   },
   "outputs": [
    {
     "data": {
      "text/plain": [
       "(734, 17)"
      ]
     },
     "execution_count": 73,
     "metadata": {},
     "output_type": "execute_result"
    }
   ],
   "source": [
    "tri_stress.shape"
   ]
  },
  {
   "cell_type": "code",
   "execution_count": 74,
   "metadata": {
    "collapsed": true
   },
   "outputs": [],
   "source": [
    "tri_stress = tri_stress[tri_stress.tau_dd != 0.]"
   ]
  },
  {
   "cell_type": "code",
   "execution_count": 75,
   "metadata": {
    "collapsed": false
   },
   "outputs": [
    {
     "data": {
      "text/plain": [
       "(610, 17)"
      ]
     },
     "execution_count": 75,
     "metadata": {},
     "output_type": "execute_result"
    }
   ],
   "source": [
    "tri_stress.shape"
   ]
  },
  {
   "cell_type": "code",
   "execution_count": 76,
   "metadata": {
    "collapsed": true
   },
   "outputs": [],
   "source": [
    "tri_stress.slip_m = 0.1"
   ]
  },
  {
   "cell_type": "code",
   "execution_count": null,
   "metadata": {
    "collapsed": true
   },
   "outputs": [],
   "source": []
  }
 ],
 "metadata": {
  "kernelspec": {
   "display_name": "Python 3",
   "language": "python",
   "name": "python3"
  },
  "language_info": {
   "codemirror_mode": {
    "name": "ipython",
    "version": 3
   },
   "file_extension": ".py",
   "mimetype": "text/x-python",
   "name": "python",
   "nbconvert_exporter": "python",
   "pygments_lexer": "ipython3",
   "version": "3.4.3"
  }
 },
 "nbformat": 4,
 "nbformat_minor": 0
}
