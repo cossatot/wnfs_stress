{
 "cells": [
  {
   "cell_type": "code",
   "execution_count": 1,
   "metadata": {
    "collapsed": false
   },
   "outputs": [],
   "source": [
    "import numpy as np\n",
    "import pandas as pd\n",
    "import json\n",
    "import halfspace.projections as hsp\n",
    "from halfspace.scripts import *"
   ]
  },
  {
   "cell_type": "markdown",
   "metadata": {},
   "source": [
    "- load point dataframes\n",
    "- load geojson tris\n",
    "- get point stresses\n",
    "- average\n",
    "- make new df of average stresses, using tri center coords\n",
    "- merge w/ other fault df(s)"
   ]
  },
  {
   "cell_type": "code",
   "execution_count": 2,
   "metadata": {
    "collapsed": false
   },
   "outputs": [],
   "source": [
    "tib_dog_pts = pd.read_csv('../data/fault_data/tib_dog_pts_df.csv')\n",
    "gurla_pts = pd.read_csv('../data/fault_data/gurla_pts_df.csv')"
   ]
  },
  {
   "cell_type": "code",
   "execution_count": 3,
   "metadata": {
    "collapsed": false
   },
   "outputs": [],
   "source": [
    "tdg_pts = pd.concat((tib_dog_pts, gurla_pts), axis=0, ignore_index=True)\n",
    "\n",
    "tdg_pts.columns = ['tri', 'vertex', 'east', 'north', 'depth', 'fault_name']"
   ]
  },
  {
   "cell_type": "code",
   "execution_count": 4,
   "metadata": {
    "collapsed": false
   },
   "outputs": [
    {
     "data": {
      "text/html": [
       "<div>\n",
       "<table border=\"1\" class=\"dataframe\">\n",
       "  <thead>\n",
       "    <tr style=\"text-align: right;\">\n",
       "      <th></th>\n",
       "      <th>tri</th>\n",
       "      <th>vertex</th>\n",
       "      <th>east</th>\n",
       "      <th>north</th>\n",
       "      <th>depth</th>\n",
       "      <th>fault_name</th>\n",
       "    </tr>\n",
       "  </thead>\n",
       "  <tbody>\n",
       "    <tr>\n",
       "      <th>2931</th>\n",
       "      <td>340</td>\n",
       "      <td>m</td>\n",
       "      <td>-54140.576926</td>\n",
       "      <td>3406463.683422</td>\n",
       "      <td>-18788.333333</td>\n",
       "      <td>gurla</td>\n",
       "    </tr>\n",
       "    <tr>\n",
       "      <th>2932</th>\n",
       "      <td>341</td>\n",
       "      <td>a</td>\n",
       "      <td>-57886.265887</td>\n",
       "      <td>3407087.521804</td>\n",
       "      <td>-20455.000000</td>\n",
       "      <td>gurla</td>\n",
       "    </tr>\n",
       "    <tr>\n",
       "      <th>2933</th>\n",
       "      <td>341</td>\n",
       "      <td>b</td>\n",
       "      <td>-54899.206517</td>\n",
       "      <td>3407362.546041</td>\n",
       "      <td>-20455.000000</td>\n",
       "      <td>gurla</td>\n",
       "    </tr>\n",
       "    <tr>\n",
       "      <th>2934</th>\n",
       "      <td>341</td>\n",
       "      <td>c</td>\n",
       "      <td>-55140.956705</td>\n",
       "      <td>3405082.406588</td>\n",
       "      <td>-15455.000000</td>\n",
       "      <td>gurla</td>\n",
       "    </tr>\n",
       "    <tr>\n",
       "      <th>2935</th>\n",
       "      <td>341</td>\n",
       "      <td>m</td>\n",
       "      <td>-55975.476370</td>\n",
       "      <td>3406510.824811</td>\n",
       "      <td>-18788.333333</td>\n",
       "      <td>gurla</td>\n",
       "    </tr>\n",
       "  </tbody>\n",
       "</table>\n",
       "</div>"
      ],
      "text/plain": [
       "      tri vertex          east           north         depth fault_name\n",
       "2931  340      m -54140.576926  3406463.683422 -18788.333333      gurla\n",
       "2932  341      a -57886.265887  3407087.521804 -20455.000000      gurla\n",
       "2933  341      b -54899.206517  3407362.546041 -20455.000000      gurla\n",
       "2934  341      c -55140.956705  3405082.406588 -15455.000000      gurla\n",
       "2935  341      m -55975.476370  3406510.824811 -18788.333333      gurla"
      ]
     },
     "execution_count": 4,
     "metadata": {},
     "output_type": "execute_result"
    }
   ],
   "source": [
    "tdg_pts.tail()"
   ]
  },
  {
   "cell_type": "code",
   "execution_count": 5,
   "metadata": {
    "collapsed": false
   },
   "outputs": [],
   "source": [
    "with open('../data/fault_data/tib_dog_tris.geojson') as f:\n",
    "    tdt = json.load(f)\n",
    "    \n",
    "with open('../data/fault_data/gurla_tris.geojson') as f:\n",
    "    gt = json.load(f)"
   ]
  },
  {
   "cell_type": "code",
   "execution_count": 6,
   "metadata": {
    "collapsed": true
   },
   "outputs": [],
   "source": [
    "stress_file = '../../nepal_2015/stress_arrays/nepal_topo_stress.h5'\n",
    "stress_meta_file = '../../nepal_2015/stress_arrays/stress_calcs_meta.json'\n",
    "dem_meta_file = '../../nepal_2015/data/dem/s_tibet_dem_meta.json'"
   ]
  },
  {
   "cell_type": "code",
   "execution_count": 7,
   "metadata": {
    "collapsed": false
   },
   "outputs": [
    {
     "name": "stdout",
     "output_type": "stream",
     "text": [
      "interpolating zz stresses\n",
      "interpolating xy stresses\n",
      "interpolating xz stresses\n",
      "interpolating yz stresses\n",
      "interpolating xx stresses\n",
      "interpolating yy stresses\n"
     ]
    }
   ],
   "source": [
    "tdg = calc_topo_stresses_at_pts(tdg_pts, stress_file=stress_file,\n",
    "                                dem_meta_file=dem_meta_file,\n",
    "                                stress_meta_file=stress_meta_file,\n",
    "                                resolve_stress=False)"
   ]
  },
  {
   "cell_type": "code",
   "execution_count": 8,
   "metadata": {
    "collapsed": false,
    "scrolled": true
   },
   "outputs": [
    {
     "data": {
      "text/html": [
       "<div>\n",
       "<table border=\"1\" class=\"dataframe\">\n",
       "  <thead>\n",
       "    <tr style=\"text-align: right;\">\n",
       "      <th></th>\n",
       "      <th>tri</th>\n",
       "      <th>vertex</th>\n",
       "      <th>east</th>\n",
       "      <th>north</th>\n",
       "      <th>depth</th>\n",
       "      <th>fault_name</th>\n",
       "      <th>zz_stress</th>\n",
       "      <th>xy_stress</th>\n",
       "      <th>xz_stress</th>\n",
       "      <th>yz_stress</th>\n",
       "      <th>xx_stress</th>\n",
       "      <th>yy_stress</th>\n",
       "    </tr>\n",
       "  </thead>\n",
       "  <tbody>\n",
       "    <tr>\n",
       "      <th>0</th>\n",
       "      <td>0</td>\n",
       "      <td>a</td>\n",
       "      <td>124496.100000</td>\n",
       "      <td>3172901.700000</td>\n",
       "      <td>4000.000000</td>\n",
       "      <td>tib_dog</td>\n",
       "      <td>0</td>\n",
       "      <td>0</td>\n",
       "      <td>0</td>\n",
       "      <td>0</td>\n",
       "      <td>0</td>\n",
       "      <td>0</td>\n",
       "    </tr>\n",
       "    <tr>\n",
       "      <th>1</th>\n",
       "      <td>0</td>\n",
       "      <td>b</td>\n",
       "      <td>125070.300000</td>\n",
       "      <td>3172690.800000</td>\n",
       "      <td>3743.000000</td>\n",
       "      <td>tib_dog</td>\n",
       "      <td>0</td>\n",
       "      <td>0</td>\n",
       "      <td>0</td>\n",
       "      <td>0</td>\n",
       "      <td>0</td>\n",
       "      <td>0</td>\n",
       "    </tr>\n",
       "    <tr>\n",
       "      <th>2</th>\n",
       "      <td>0</td>\n",
       "      <td>c</td>\n",
       "      <td>124256.800000</td>\n",
       "      <td>3172817.900000</td>\n",
       "      <td>4156.000000</td>\n",
       "      <td>tib_dog</td>\n",
       "      <td>0</td>\n",
       "      <td>0</td>\n",
       "      <td>0</td>\n",
       "      <td>0</td>\n",
       "      <td>0</td>\n",
       "      <td>0</td>\n",
       "    </tr>\n",
       "    <tr>\n",
       "      <th>3</th>\n",
       "      <td>0</td>\n",
       "      <td>m</td>\n",
       "      <td>124607.733333</td>\n",
       "      <td>3172803.466667</td>\n",
       "      <td>3966.333333</td>\n",
       "      <td>tib_dog</td>\n",
       "      <td>0</td>\n",
       "      <td>0</td>\n",
       "      <td>0</td>\n",
       "      <td>0</td>\n",
       "      <td>0</td>\n",
       "      <td>0</td>\n",
       "    </tr>\n",
       "    <tr>\n",
       "      <th>4</th>\n",
       "      <td>1</td>\n",
       "      <td>a</td>\n",
       "      <td>124058.100000</td>\n",
       "      <td>3173298.000000</td>\n",
       "      <td>4000.000000</td>\n",
       "      <td>tib_dog</td>\n",
       "      <td>0</td>\n",
       "      <td>0</td>\n",
       "      <td>0</td>\n",
       "      <td>0</td>\n",
       "      <td>0</td>\n",
       "      <td>0</td>\n",
       "    </tr>\n",
       "  </tbody>\n",
       "</table>\n",
       "</div>"
      ],
      "text/plain": [
       "   tri vertex           east           north        depth fault_name  \\\n",
       "0    0      a  124496.100000  3172901.700000  4000.000000    tib_dog   \n",
       "1    0      b  125070.300000  3172690.800000  3743.000000    tib_dog   \n",
       "2    0      c  124256.800000  3172817.900000  4156.000000    tib_dog   \n",
       "3    0      m  124607.733333  3172803.466667  3966.333333    tib_dog   \n",
       "4    1      a  124058.100000  3173298.000000  4000.000000    tib_dog   \n",
       "\n",
       "   zz_stress  xy_stress  xz_stress  yz_stress  xx_stress  yy_stress  \n",
       "0          0          0          0          0          0          0  \n",
       "1          0          0          0          0          0          0  \n",
       "2          0          0          0          0          0          0  \n",
       "3          0          0          0          0          0          0  \n",
       "4          0          0          0          0          0          0  "
      ]
     },
     "execution_count": 8,
     "metadata": {},
     "output_type": "execute_result"
    }
   ],
   "source": [
    "tdg.head()"
   ]
  },
  {
   "cell_type": "code",
   "execution_count": 9,
   "metadata": {
    "collapsed": false
   },
   "outputs": [],
   "source": [
    "tdg_avg = tdg.groupby(('fault_name', 'tri')).mean()[['zz_stress',\n",
    "                                                     'xy_stress',\n",
    "                                           'xz_stress','yz_stress',\n",
    "                                           'xx_stress','yy_stress']]"
   ]
  },
  {
   "cell_type": "code",
   "execution_count": 10,
   "metadata": {
    "collapsed": false
   },
   "outputs": [
    {
     "data": {
      "text/html": [
       "<div>\n",
       "<table border=\"1\" class=\"dataframe\">\n",
       "  <thead>\n",
       "    <tr style=\"text-align: right;\">\n",
       "      <th></th>\n",
       "      <th></th>\n",
       "      <th>zz_stress</th>\n",
       "      <th>xy_stress</th>\n",
       "      <th>xz_stress</th>\n",
       "      <th>yz_stress</th>\n",
       "      <th>xx_stress</th>\n",
       "      <th>yy_stress</th>\n",
       "    </tr>\n",
       "    <tr>\n",
       "      <th>fault_name</th>\n",
       "      <th>tri</th>\n",
       "      <th></th>\n",
       "      <th></th>\n",
       "      <th></th>\n",
       "      <th></th>\n",
       "      <th></th>\n",
       "      <th></th>\n",
       "    </tr>\n",
       "  </thead>\n",
       "  <tbody>\n",
       "    <tr>\n",
       "      <th rowspan=\"5\" valign=\"top\">gurla</th>\n",
       "      <th>0</th>\n",
       "      <td>122.365046</td>\n",
       "      <td>1.262838</td>\n",
       "      <td>-3.130255</td>\n",
       "      <td>-7.833799</td>\n",
       "      <td>67.215418</td>\n",
       "      <td>67.963298</td>\n",
       "    </tr>\n",
       "    <tr>\n",
       "      <th>1</th>\n",
       "      <td>122.802498</td>\n",
       "      <td>1.562838</td>\n",
       "      <td>-2.546067</td>\n",
       "      <td>-7.169587</td>\n",
       "      <td>68.833418</td>\n",
       "      <td>69.845652</td>\n",
       "    </tr>\n",
       "    <tr>\n",
       "      <th>2</th>\n",
       "      <td>123.452559</td>\n",
       "      <td>2.246759</td>\n",
       "      <td>-1.578494</td>\n",
       "      <td>-5.545806</td>\n",
       "      <td>72.404882</td>\n",
       "      <td>74.020897</td>\n",
       "    </tr>\n",
       "    <tr>\n",
       "      <th>3</th>\n",
       "      <td>123.926082</td>\n",
       "      <td>2.731499</td>\n",
       "      <td>-1.128569</td>\n",
       "      <td>-4.596917</td>\n",
       "      <td>74.340048</td>\n",
       "      <td>76.356889</td>\n",
       "    </tr>\n",
       "    <tr>\n",
       "      <th>4</th>\n",
       "      <td>122.374934</td>\n",
       "      <td>1.156617</td>\n",
       "      <td>-3.483587</td>\n",
       "      <td>-7.801336</td>\n",
       "      <td>66.988821</td>\n",
       "      <td>67.718253</td>\n",
       "    </tr>\n",
       "  </tbody>\n",
       "</table>\n",
       "</div>"
      ],
      "text/plain": [
       "                 zz_stress  xy_stress  xz_stress  yz_stress  xx_stress  \\\n",
       "fault_name tri                                                           \n",
       "gurla      0    122.365046   1.262838  -3.130255  -7.833799  67.215418   \n",
       "           1    122.802498   1.562838  -2.546067  -7.169587  68.833418   \n",
       "           2    123.452559   2.246759  -1.578494  -5.545806  72.404882   \n",
       "           3    123.926082   2.731499  -1.128569  -4.596917  74.340048   \n",
       "           4    122.374934   1.156617  -3.483587  -7.801336  66.988821   \n",
       "\n",
       "                yy_stress  \n",
       "fault_name tri             \n",
       "gurla      0    67.963298  \n",
       "           1    69.845652  \n",
       "           2    74.020897  \n",
       "           3    76.356889  \n",
       "           4    67.718253  "
      ]
     },
     "execution_count": 10,
     "metadata": {},
     "output_type": "execute_result"
    }
   ],
   "source": [
    "tdg_avg.head()"
   ]
  },
  {
   "cell_type": "code",
   "execution_count": 11,
   "metadata": {
    "collapsed": false
   },
   "outputs": [],
   "source": [
    "tdg_avg['i'] = range(tdg_avg.shape[0])\n",
    "tdg_avg['fault_name'],tdg_avg['tri'] = zip(*tdg_avg.index.values)"
   ]
  },
  {
   "cell_type": "code",
   "execution_count": 12,
   "metadata": {
    "collapsed": false
   },
   "outputs": [],
   "source": [
    "tdg_avg.set_index('i', inplace=True)"
   ]
  },
  {
   "cell_type": "code",
   "execution_count": 13,
   "metadata": {
    "collapsed": false
   },
   "outputs": [
    {
     "data": {
      "text/plain": [
       "(    zz_stress  xy_stress  xz_stress  yz_stress  xx_stress  yy_stress  \\\n",
       " i                                                                      \n",
       " 0  122.365046   1.262838  -3.130255  -7.833799  67.215418  67.963298   \n",
       " 1  122.802498   1.562838  -2.546067  -7.169587  68.833418  69.845652   \n",
       " 2  123.452559   2.246759  -1.578494  -5.545806  72.404882  74.020897   \n",
       " 3  123.926082   2.731499  -1.128569  -4.596917  74.340048  76.356889   \n",
       " 4  122.374934   1.156617  -3.483587  -7.801336  66.988821  67.718253   \n",
       " \n",
       "   fault_name  tri  \n",
       " i                  \n",
       " 0      gurla    0  \n",
       " 1      gurla    1  \n",
       " 2      gurla    2  \n",
       " 3      gurla    3  \n",
       " 4      gurla    4  ,\n",
       "       zz_stress  xy_stress  xz_stress  yz_stress  xx_stress  yy_stress  \\\n",
       " i                                                                        \n",
       " 729  102.925521  -0.030489  -7.277902 -10.392833  72.365598  74.368759   \n",
       " 730  101.775826  -0.468165  -2.945500 -10.891380  73.363035  77.416506   \n",
       " 731  100.918067  -0.009567  -4.248177 -10.401864  73.603741  76.640471   \n",
       " 732  101.976276   0.130320  -5.909874 -10.411796  72.501793  74.848722   \n",
       " 733  103.119852   0.064570  -6.424231 -10.678737  71.582790  73.881284   \n",
       " \n",
       "     fault_name  tri  \n",
       " i                    \n",
       " 729    tib_dog  387  \n",
       " 730    tib_dog  388  \n",
       " 731    tib_dog  389  \n",
       " 732    tib_dog  390  \n",
       " 733    tib_dog  391  )"
      ]
     },
     "execution_count": 13,
     "metadata": {},
     "output_type": "execute_result"
    }
   ],
   "source": [
    "tdg_avg.head(), tdg_avg.tail()"
   ]
  },
  {
   "cell_type": "code",
   "execution_count": 14,
   "metadata": {
    "collapsed": true
   },
   "outputs": [],
   "source": [
    "fd = {'gurla': gt, 'tib_dog':tdt} # fault dict"
   ]
  },
  {
   "cell_type": "code",
   "execution_count": 15,
   "metadata": {
    "collapsed": false
   },
   "outputs": [
    {
     "data": {
      "text/plain": [
       "{'geometry': {'coordinates': [[[-55783.583006836, 3342716.71580536, -14985.0],\n",
       "    [-54677.8965490291, 3339938.7432105276, -19768.0],\n",
       "    [-56725.8969340146, 3341331.705430983, -19747.0],\n",
       "    [-55783.583006836, 3342716.71580536, -14985.0]]],\n",
       "  'type': 'Polygon'},\n",
       " 'properties': {'POINTA': 130.0,\n",
       "  'POINTB': 204.0,\n",
       "  'POINTC': 203.0,\n",
       "  'area_sq_km': 6.251594281640157,\n",
       "  'center': [-55729.12549662657, 3341329.0548156234, -18166.666666666668],\n",
       "  'dip': 70.61925626388545,\n",
       "  'rake': -123.58798416497373,\n",
       "  'rake_err': 10,\n",
       "  'strike': 124.05097108466613},\n",
       " 'type': 'Feature'}"
      ]
     },
     "execution_count": 15,
     "metadata": {},
     "output_type": "execute_result"
    }
   ],
   "source": [
    "gt['features'][0]"
   ]
  },
  {
   "cell_type": "code",
   "execution_count": 16,
   "metadata": {
    "collapsed": true
   },
   "outputs": [],
   "source": [
    "def get_row(row):\n",
    "    g = fd[row.fault_name]\n",
    "    p = g['features'][row.tri]['properties']\n",
    "    o = {}\n",
    "    o['east'], o['north'], o['depth'] = p['center']\n",
    "    o['strike'] = p['strike']\n",
    "    o['dip'] = p['dip']\n",
    "    o['rake'] = p['rake']\n",
    "    o['area_sq_km'] = p['area_sq_km']\n",
    "    \n",
    "    return pd.Series(o)"
   ]
  },
  {
   "cell_type": "code",
   "execution_count": 17,
   "metadata": {
    "collapsed": false
   },
   "outputs": [
    {
     "data": {
      "text/plain": [
       "area_sq_km          6.251594\n",
       "depth          -18166.666667\n",
       "dip                70.619256\n",
       "east           -55729.125497\n",
       "north         3341329.054816\n",
       "rake             -123.587984\n",
       "strike            124.050971\n",
       "dtype: float64"
      ]
     },
     "execution_count": 17,
     "metadata": {},
     "output_type": "execute_result"
    }
   ],
   "source": [
    "get_row(tdg_avg.iloc[0])"
   ]
  },
  {
   "cell_type": "code",
   "execution_count": 18,
   "metadata": {
    "collapsed": false
   },
   "outputs": [
    {
     "data": {
      "text/html": [
       "<div>\n",
       "<table border=\"1\" class=\"dataframe\">\n",
       "  <thead>\n",
       "    <tr style=\"text-align: right;\">\n",
       "      <th></th>\n",
       "      <th>area_sq_km</th>\n",
       "      <th>depth</th>\n",
       "      <th>dip</th>\n",
       "      <th>east</th>\n",
       "      <th>north</th>\n",
       "      <th>rake</th>\n",
       "      <th>strike</th>\n",
       "    </tr>\n",
       "    <tr>\n",
       "      <th>i</th>\n",
       "      <th></th>\n",
       "      <th></th>\n",
       "      <th></th>\n",
       "      <th></th>\n",
       "      <th></th>\n",
       "      <th></th>\n",
       "      <th></th>\n",
       "    </tr>\n",
       "  </thead>\n",
       "  <tbody>\n",
       "    <tr>\n",
       "      <th>0</th>\n",
       "      <td>6.251594</td>\n",
       "      <td>-18166.666667</td>\n",
       "      <td>70.619256</td>\n",
       "      <td>-55729.125497</td>\n",
       "      <td>3341329.054816</td>\n",
       "      <td>-123.587984</td>\n",
       "      <td>124.050971</td>\n",
       "    </tr>\n",
       "    <tr>\n",
       "      <th>1</th>\n",
       "      <td>7.592646</td>\n",
       "      <td>-16527.333333</td>\n",
       "      <td>73.934283</td>\n",
       "      <td>-54657.964479</td>\n",
       "      <td>3341155.562365</td>\n",
       "      <td>-112.795196</td>\n",
       "      <td>130.864597</td>\n",
       "    </tr>\n",
       "    <tr>\n",
       "      <th>2</th>\n",
       "      <td>7.633754</td>\n",
       "      <td>-13288.333333</td>\n",
       "      <td>68.460230</td>\n",
       "      <td>-53918.655475</td>\n",
       "      <td>3341974.752790</td>\n",
       "      <td>-118.845817</td>\n",
       "      <td>131.186418</td>\n",
       "    </tr>\n",
       "    <tr>\n",
       "      <th>3</th>\n",
       "      <td>7.399779</td>\n",
       "      <td>-11725.000000</td>\n",
       "      <td>69.749617</td>\n",
       "      <td>-54321.288308</td>\n",
       "      <td>3343089.493691</td>\n",
       "      <td>-119.903116</td>\n",
       "      <td>128.541681</td>\n",
       "    </tr>\n",
       "    <tr>\n",
       "      <th>4</th>\n",
       "      <td>7.278628</td>\n",
       "      <td>-18510.000000</td>\n",
       "      <td>70.715283</td>\n",
       "      <td>-57216.150551</td>\n",
       "      <td>3342311.810013</td>\n",
       "      <td>-117.256531</td>\n",
       "      <td>130.162511</td>\n",
       "    </tr>\n",
       "  </tbody>\n",
       "</table>\n",
       "</div>"
      ],
      "text/plain": [
       "   area_sq_km         depth        dip          east           north  \\\n",
       "i                                                                      \n",
       "0    6.251594 -18166.666667  70.619256 -55729.125497  3341329.054816   \n",
       "1    7.592646 -16527.333333  73.934283 -54657.964479  3341155.562365   \n",
       "2    7.633754 -13288.333333  68.460230 -53918.655475  3341974.752790   \n",
       "3    7.399779 -11725.000000  69.749617 -54321.288308  3343089.493691   \n",
       "4    7.278628 -18510.000000  70.715283 -57216.150551  3342311.810013   \n",
       "\n",
       "         rake      strike  \n",
       "i                          \n",
       "0 -123.587984  124.050971  \n",
       "1 -112.795196  130.864597  \n",
       "2 -118.845817  131.186418  \n",
       "3 -119.903116  128.541681  \n",
       "4 -117.256531  130.162511  "
      ]
     },
     "execution_count": 18,
     "metadata": {},
     "output_type": "execute_result"
    }
   ],
   "source": [
    "tdg_avg.apply(get_row, axis=1).head()"
   ]
  },
  {
   "cell_type": "code",
   "execution_count": 19,
   "metadata": {
    "collapsed": false
   },
   "outputs": [],
   "source": [
    "tri_stress = pd.merge(tdg_avg, tdg_avg.apply(get_row, axis=1),\n",
    "                       left_index=True, right_index=True)"
   ]
  },
  {
   "cell_type": "code",
   "execution_count": 20,
   "metadata": {
    "collapsed": false
   },
   "outputs": [
    {
     "data": {
      "text/html": [
       "<div>\n",
       "<table border=\"1\" class=\"dataframe\">\n",
       "  <thead>\n",
       "    <tr style=\"text-align: right;\">\n",
       "      <th></th>\n",
       "      <th>zz_stress</th>\n",
       "      <th>xy_stress</th>\n",
       "      <th>xz_stress</th>\n",
       "      <th>yz_stress</th>\n",
       "      <th>xx_stress</th>\n",
       "      <th>yy_stress</th>\n",
       "      <th>fault_name</th>\n",
       "      <th>tri</th>\n",
       "      <th>area_sq_km</th>\n",
       "      <th>depth</th>\n",
       "      <th>dip</th>\n",
       "      <th>east</th>\n",
       "      <th>north</th>\n",
       "      <th>rake</th>\n",
       "      <th>strike</th>\n",
       "    </tr>\n",
       "    <tr>\n",
       "      <th>i</th>\n",
       "      <th></th>\n",
       "      <th></th>\n",
       "      <th></th>\n",
       "      <th></th>\n",
       "      <th></th>\n",
       "      <th></th>\n",
       "      <th></th>\n",
       "      <th></th>\n",
       "      <th></th>\n",
       "      <th></th>\n",
       "      <th></th>\n",
       "      <th></th>\n",
       "      <th></th>\n",
       "      <th></th>\n",
       "      <th></th>\n",
       "    </tr>\n",
       "  </thead>\n",
       "  <tbody>\n",
       "    <tr>\n",
       "      <th>0</th>\n",
       "      <td>122.365046</td>\n",
       "      <td>1.262838</td>\n",
       "      <td>-3.130255</td>\n",
       "      <td>-7.833799</td>\n",
       "      <td>67.215418</td>\n",
       "      <td>67.963298</td>\n",
       "      <td>gurla</td>\n",
       "      <td>0</td>\n",
       "      <td>6.251594</td>\n",
       "      <td>-18166.666667</td>\n",
       "      <td>70.619256</td>\n",
       "      <td>-55729.125497</td>\n",
       "      <td>3341329.054816</td>\n",
       "      <td>-123.587984</td>\n",
       "      <td>124.050971</td>\n",
       "    </tr>\n",
       "    <tr>\n",
       "      <th>1</th>\n",
       "      <td>122.802498</td>\n",
       "      <td>1.562838</td>\n",
       "      <td>-2.546067</td>\n",
       "      <td>-7.169587</td>\n",
       "      <td>68.833418</td>\n",
       "      <td>69.845652</td>\n",
       "      <td>gurla</td>\n",
       "      <td>1</td>\n",
       "      <td>7.592646</td>\n",
       "      <td>-16527.333333</td>\n",
       "      <td>73.934283</td>\n",
       "      <td>-54657.964479</td>\n",
       "      <td>3341155.562365</td>\n",
       "      <td>-112.795196</td>\n",
       "      <td>130.864597</td>\n",
       "    </tr>\n",
       "    <tr>\n",
       "      <th>2</th>\n",
       "      <td>123.452559</td>\n",
       "      <td>2.246759</td>\n",
       "      <td>-1.578494</td>\n",
       "      <td>-5.545806</td>\n",
       "      <td>72.404882</td>\n",
       "      <td>74.020897</td>\n",
       "      <td>gurla</td>\n",
       "      <td>2</td>\n",
       "      <td>7.633754</td>\n",
       "      <td>-13288.333333</td>\n",
       "      <td>68.460230</td>\n",
       "      <td>-53918.655475</td>\n",
       "      <td>3341974.752790</td>\n",
       "      <td>-118.845817</td>\n",
       "      <td>131.186418</td>\n",
       "    </tr>\n",
       "    <tr>\n",
       "      <th>3</th>\n",
       "      <td>123.926082</td>\n",
       "      <td>2.731499</td>\n",
       "      <td>-1.128569</td>\n",
       "      <td>-4.596917</td>\n",
       "      <td>74.340048</td>\n",
       "      <td>76.356889</td>\n",
       "      <td>gurla</td>\n",
       "      <td>3</td>\n",
       "      <td>7.399779</td>\n",
       "      <td>-11725.000000</td>\n",
       "      <td>69.749617</td>\n",
       "      <td>-54321.288308</td>\n",
       "      <td>3343089.493691</td>\n",
       "      <td>-119.903116</td>\n",
       "      <td>128.541681</td>\n",
       "    </tr>\n",
       "    <tr>\n",
       "      <th>4</th>\n",
       "      <td>122.374934</td>\n",
       "      <td>1.156617</td>\n",
       "      <td>-3.483587</td>\n",
       "      <td>-7.801336</td>\n",
       "      <td>66.988821</td>\n",
       "      <td>67.718253</td>\n",
       "      <td>gurla</td>\n",
       "      <td>4</td>\n",
       "      <td>7.278628</td>\n",
       "      <td>-18510.000000</td>\n",
       "      <td>70.715283</td>\n",
       "      <td>-57216.150551</td>\n",
       "      <td>3342311.810013</td>\n",
       "      <td>-117.256531</td>\n",
       "      <td>130.162511</td>\n",
       "    </tr>\n",
       "  </tbody>\n",
       "</table>\n",
       "</div>"
      ],
      "text/plain": [
       "    zz_stress  xy_stress  xz_stress  yz_stress  xx_stress  yy_stress  \\\n",
       "i                                                                      \n",
       "0  122.365046   1.262838  -3.130255  -7.833799  67.215418  67.963298   \n",
       "1  122.802498   1.562838  -2.546067  -7.169587  68.833418  69.845652   \n",
       "2  123.452559   2.246759  -1.578494  -5.545806  72.404882  74.020897   \n",
       "3  123.926082   2.731499  -1.128569  -4.596917  74.340048  76.356889   \n",
       "4  122.374934   1.156617  -3.483587  -7.801336  66.988821  67.718253   \n",
       "\n",
       "  fault_name  tri  area_sq_km         depth        dip          east  \\\n",
       "i                                                                      \n",
       "0      gurla    0    6.251594 -18166.666667  70.619256 -55729.125497   \n",
       "1      gurla    1    7.592646 -16527.333333  73.934283 -54657.964479   \n",
       "2      gurla    2    7.633754 -13288.333333  68.460230 -53918.655475   \n",
       "3      gurla    3    7.399779 -11725.000000  69.749617 -54321.288308   \n",
       "4      gurla    4    7.278628 -18510.000000  70.715283 -57216.150551   \n",
       "\n",
       "            north        rake      strike  \n",
       "i                                          \n",
       "0  3341329.054816 -123.587984  124.050971  \n",
       "1  3341155.562365 -112.795196  130.864597  \n",
       "2  3341974.752790 -118.845817  131.186418  \n",
       "3  3343089.493691 -119.903116  128.541681  \n",
       "4  3342311.810013 -117.256531  130.162511  "
      ]
     },
     "execution_count": 20,
     "metadata": {},
     "output_type": "execute_result"
    }
   ],
   "source": [
    "tri_stress.head()"
   ]
  },
  {
   "cell_type": "code",
   "execution_count": 21,
   "metadata": {
    "collapsed": false
   },
   "outputs": [],
   "source": [
    "tri_stress.rename(columns={'tri':'point_index'}, inplace=True)"
   ]
  },
  {
   "cell_type": "code",
   "execution_count": 22,
   "metadata": {
    "collapsed": true
   },
   "outputs": [],
   "source": [
    "tri_stress = resolve_stresses(tri_stress)"
   ]
  },
  {
   "cell_type": "code",
   "execution_count": 23,
   "metadata": {
    "collapsed": false
   },
   "outputs": [
    {
     "data": {
      "text/plain": [
       "(734, 18)"
      ]
     },
     "execution_count": 23,
     "metadata": {},
     "output_type": "execute_result"
    }
   ],
   "source": [
    "tri_stress.shape"
   ]
  },
  {
   "cell_type": "code",
   "execution_count": 24,
   "metadata": {
    "collapsed": false
   },
   "outputs": [],
   "source": [
    "ts = tri_stress.set_index(['fault_name', 'point_index'])"
   ]
  },
  {
   "cell_type": "code",
   "execution_count": 25,
   "metadata": {
    "collapsed": false
   },
   "outputs": [
    {
     "data": {
      "text/html": [
       "<div>\n",
       "<table border=\"1\" class=\"dataframe\">\n",
       "  <thead>\n",
       "    <tr style=\"text-align: right;\">\n",
       "      <th></th>\n",
       "      <th></th>\n",
       "      <th>zz_stress</th>\n",
       "      <th>xy_stress</th>\n",
       "      <th>xz_stress</th>\n",
       "      <th>yz_stress</th>\n",
       "      <th>xx_stress</th>\n",
       "      <th>yy_stress</th>\n",
       "      <th>area_sq_km</th>\n",
       "      <th>depth</th>\n",
       "      <th>dip</th>\n",
       "      <th>east</th>\n",
       "      <th>north</th>\n",
       "      <th>rake</th>\n",
       "      <th>strike</th>\n",
       "      <th>tau_dd</th>\n",
       "      <th>tau_ss</th>\n",
       "      <th>sig_nn</th>\n",
       "    </tr>\n",
       "    <tr>\n",
       "      <th>fault_name</th>\n",
       "      <th>point_index</th>\n",
       "      <th></th>\n",
       "      <th></th>\n",
       "      <th></th>\n",
       "      <th></th>\n",
       "      <th></th>\n",
       "      <th></th>\n",
       "      <th></th>\n",
       "      <th></th>\n",
       "      <th></th>\n",
       "      <th></th>\n",
       "      <th></th>\n",
       "      <th></th>\n",
       "      <th></th>\n",
       "      <th></th>\n",
       "      <th></th>\n",
       "      <th></th>\n",
       "    </tr>\n",
       "  </thead>\n",
       "  <tbody>\n",
       "    <tr>\n",
       "      <th rowspan=\"5\" valign=\"top\">gurla</th>\n",
       "      <th>0</th>\n",
       "      <td>122.365046</td>\n",
       "      <td>1.262838</td>\n",
       "      <td>-3.130255</td>\n",
       "      <td>-7.833799</td>\n",
       "      <td>67.215418</td>\n",
       "      <td>67.963298</td>\n",
       "      <td>6.251594</td>\n",
       "      <td>-18166.666667</td>\n",
       "      <td>70.619256</td>\n",
       "      <td>-55729.125497</td>\n",
       "      <td>3341329.054816</td>\n",
       "      <td>-123.587984</td>\n",
       "      <td>124.050971</td>\n",
       "      <td>-10.308706</td>\n",
       "      <td>-0.711939</td>\n",
       "      <td>69.627094</td>\n",
       "    </tr>\n",
       "    <tr>\n",
       "      <th>1</th>\n",
       "      <td>122.802498</td>\n",
       "      <td>1.562838</td>\n",
       "      <td>-2.546067</td>\n",
       "      <td>-7.169587</td>\n",
       "      <td>68.833418</td>\n",
       "      <td>69.845652</td>\n",
       "      <td>7.592646</td>\n",
       "      <td>-16527.333333</td>\n",
       "      <td>73.934283</td>\n",
       "      <td>-54657.964479</td>\n",
       "      <td>3341155.562365</td>\n",
       "      <td>-112.795196</td>\n",
       "      <td>130.864597</td>\n",
       "      <td>-7.784614</td>\n",
       "      <td>-0.500037</td>\n",
       "      <td>71.159574</td>\n",
       "    </tr>\n",
       "    <tr>\n",
       "      <th>2</th>\n",
       "      <td>123.452559</td>\n",
       "      <td>2.246759</td>\n",
       "      <td>-1.578494</td>\n",
       "      <td>-5.545806</td>\n",
       "      <td>72.404882</td>\n",
       "      <td>74.020897</td>\n",
       "      <td>7.633754</td>\n",
       "      <td>-13288.333333</td>\n",
       "      <td>68.460230</td>\n",
       "      <td>-53918.655475</td>\n",
       "      <td>3341974.752790</td>\n",
       "      <td>-118.845817</td>\n",
       "      <td>131.186418</td>\n",
       "      <td>-12.552396</td>\n",
       "      <td>-0.437116</td>\n",
       "      <td>78.443939</td>\n",
       "    </tr>\n",
       "    <tr>\n",
       "      <th>3</th>\n",
       "      <td>123.926082</td>\n",
       "      <td>2.731499</td>\n",
       "      <td>-1.128569</td>\n",
       "      <td>-4.596917</td>\n",
       "      <td>74.340048</td>\n",
       "      <td>76.356889</td>\n",
       "      <td>7.399779</td>\n",
       "      <td>-11725.000000</td>\n",
       "      <td>69.749617</td>\n",
       "      <td>-54321.288308</td>\n",
       "      <td>3343089.493691</td>\n",
       "      <td>-119.903116</td>\n",
       "      <td>128.541681</td>\n",
       "      <td>-11.568097</td>\n",
       "      <td>-0.336551</td>\n",
       "      <td>80.918145</td>\n",
       "    </tr>\n",
       "    <tr>\n",
       "      <th>4</th>\n",
       "      <td>122.374934</td>\n",
       "      <td>1.156617</td>\n",
       "      <td>-3.483587</td>\n",
       "      <td>-7.801336</td>\n",
       "      <td>66.988821</td>\n",
       "      <td>67.718253</td>\n",
       "      <td>7.278628</td>\n",
       "      <td>-18510.000000</td>\n",
       "      <td>70.715283</td>\n",
       "      <td>-57216.150551</td>\n",
       "      <td>3342311.810013</td>\n",
       "      <td>-117.256531</td>\n",
       "      <td>130.162511</td>\n",
       "      <td>-10.359369</td>\n",
       "      <td>-0.626613</td>\n",
       "      <td>69.307510</td>\n",
       "    </tr>\n",
       "  </tbody>\n",
       "</table>\n",
       "</div>"
      ],
      "text/plain": [
       "                         zz_stress  xy_stress  xz_stress  yz_stress  \\\n",
       "fault_name point_index                                                \n",
       "gurla      0            122.365046   1.262838  -3.130255  -7.833799   \n",
       "           1            122.802498   1.562838  -2.546067  -7.169587   \n",
       "           2            123.452559   2.246759  -1.578494  -5.545806   \n",
       "           3            123.926082   2.731499  -1.128569  -4.596917   \n",
       "           4            122.374934   1.156617  -3.483587  -7.801336   \n",
       "\n",
       "                        xx_stress  yy_stress  area_sq_km         depth  \\\n",
       "fault_name point_index                                                   \n",
       "gurla      0            67.215418  67.963298    6.251594 -18166.666667   \n",
       "           1            68.833418  69.845652    7.592646 -16527.333333   \n",
       "           2            72.404882  74.020897    7.633754 -13288.333333   \n",
       "           3            74.340048  76.356889    7.399779 -11725.000000   \n",
       "           4            66.988821  67.718253    7.278628 -18510.000000   \n",
       "\n",
       "                              dip          east           north        rake  \\\n",
       "fault_name point_index                                                        \n",
       "gurla      0            70.619256 -55729.125497  3341329.054816 -123.587984   \n",
       "           1            73.934283 -54657.964479  3341155.562365 -112.795196   \n",
       "           2            68.460230 -53918.655475  3341974.752790 -118.845817   \n",
       "           3            69.749617 -54321.288308  3343089.493691 -119.903116   \n",
       "           4            70.715283 -57216.150551  3342311.810013 -117.256531   \n",
       "\n",
       "                            strike     tau_dd    tau_ss     sig_nn  \n",
       "fault_name point_index                                              \n",
       "gurla      0            124.050971 -10.308706 -0.711939  69.627094  \n",
       "           1            130.864597  -7.784614 -0.500037  71.159574  \n",
       "           2            131.186418 -12.552396 -0.437116  78.443939  \n",
       "           3            128.541681 -11.568097 -0.336551  80.918145  \n",
       "           4            130.162511 -10.359369 -0.626613  69.307510  "
      ]
     },
     "execution_count": 25,
     "metadata": {},
     "output_type": "execute_result"
    }
   ],
   "source": [
    "ts.head()"
   ]
  },
  {
   "cell_type": "code",
   "execution_count": 26,
   "metadata": {
    "collapsed": false
   },
   "outputs": [],
   "source": [
    "for i, feat in enumerate(tdt['features']):\n",
    "    stresses = ts.loc[('tib_dog', i), :]\n",
    "    feat['properties']['tau_d'] = stresses['tau_dd']\n",
    "    feat['properties']['tau_s'] = stresses['tau_ss']\n",
    "    feat['properties']['sigma_n'] = stresses['sig_nn']\n",
    "    feat['properties']['topo_stress_rake'] = hsp.get_rake_from_shear_components(\n",
    "                                                stresses['tau_dd'], stresses['tau_ss'])\n",
    "    feat['properties']['tau'] = np.sqrt((stresses['tau_dd']**2 + stresses['tau_ss']**2))\n",
    "    \n",
    "for i, feat in enumerate(gt['features']):\n",
    "    stresses = ts.loc[('gurla', i), :]\n",
    "    feat['properties']['tau_d'] = stresses['tau_dd']\n",
    "    feat['properties']['tau_s'] = stresses['tau_ss']\n",
    "    feat['properties']['sigma_n'] = stresses['sig_nn']\n",
    "    feat['properties']['topo_stress_rake'] = hsp.get_rake_from_shear_components(\n",
    "                                                stresses['tau_dd'], stresses['tau_ss'])\n",
    "    feat['properties']['tau'] = np.sqrt((stresses['tau_dd']**2 + stresses['tau_ss']**2))"
   ]
  },
  {
   "cell_type": "code",
   "execution_count": 27,
   "metadata": {
    "collapsed": true
   },
   "outputs": [],
   "source": [
    "tri_stress = tri_stress[tri_stress.tau_dd != 0.]"
   ]
  },
  {
   "cell_type": "code",
   "execution_count": 28,
   "metadata": {
    "collapsed": false
   },
   "outputs": [
    {
     "data": {
      "text/plain": [
       "(610, 18)"
      ]
     },
     "execution_count": 28,
     "metadata": {},
     "output_type": "execute_result"
    }
   ],
   "source": [
    "tri_stress.shape"
   ]
  },
  {
   "cell_type": "code",
   "execution_count": 29,
   "metadata": {
    "collapsed": true
   },
   "outputs": [],
   "source": [
    "tri_stress.slip_m = 0.1"
   ]
  },
  {
   "cell_type": "code",
   "execution_count": 30,
   "metadata": {
    "collapsed": false
   },
   "outputs": [],
   "source": [
    "tri_stress.to_csv('../data/fault_data/wnfs_tris.csv', index=False)"
   ]
  },
  {
   "cell_type": "code",
   "execution_count": 31,
   "metadata": {
    "collapsed": false
   },
   "outputs": [
    {
     "data": {
      "text/plain": [
       "{'geometry': {'coordinates': [[[124496.1, 3172901.7, 4000.0],\n",
       "    [125070.3, 3172690.8, 3743.0],\n",
       "    [124256.8, 3172817.9, 4156.0],\n",
       "    [124496.1, 3172901.7, 4000.0]]],\n",
       "  'type': 'Polygon'},\n",
       " 'properties': {'POINTA': 195.0,\n",
       "  'POINTB': 11.0,\n",
       "  'POINTC': 12.0,\n",
       "  'area_sq_km': 0.058032022780406034,\n",
       "  'center': [124607.73333333334, 3172803.466666667, 3966.3333333333335],\n",
       "  'dip': 31.852099159915703,\n",
       "  'rake': -121.26474086089195,\n",
       "  'rake_err': 15,\n",
       "  'sigma_n': 0.0,\n",
       "  'strike': 332.71822991430054,\n",
       "  'tau': 0.0,\n",
       "  'tau_d': 0.0,\n",
       "  'tau_s': 0.0,\n",
       "  'topo_stress_rake': 180.0},\n",
       " 'type': 'Feature'}"
      ]
     },
     "execution_count": 31,
     "metadata": {},
     "output_type": "execute_result"
    }
   ],
   "source": [
    "tdt['features'][0]"
   ]
  },
  {
   "cell_type": "code",
   "execution_count": 32,
   "metadata": {
    "collapsed": false
   },
   "outputs": [],
   "source": [
    "with open('../data/fault_data/tib_dog_tri_stresses.geojson', 'w') as f:\n",
    "    json.dump(tdt, f)\n",
    "    \n",
    "with open('../data/fault_data/gurla_tri_stresses.geojson', 'w') as f:\n",
    "    json.dump(gt, f)"
   ]
  },
  {
   "cell_type": "code",
   "execution_count": 33,
   "metadata": {
    "collapsed": false
   },
   "outputs": [],
   "source": [
    "import matplotlib.pyplot as plt"
   ]
  },
  {
   "cell_type": "code",
   "execution_count": 34,
   "metadata": {
    "collapsed": false
   },
   "outputs": [],
   "source": [
    "tri_stress[tri_stress.fault_name=='tib_dog'].rake.hist(bins=20)\n",
    "plt.show()"
   ]
  },
  {
   "cell_type": "code",
   "execution_count": 35,
   "metadata": {
    "collapsed": true
   },
   "outputs": [],
   "source": [
    "tri_stress[tri_stress.fault_name=='gurla'].tau_dd.hist(bins=20)\n",
    "plt.show()"
   ]
  },
  {
   "cell_type": "code",
   "execution_count": 36,
   "metadata": {
    "collapsed": false
   },
   "outputs": [
    {
     "data": {
      "text/html": [
       "<div>\n",
       "<table border=\"1\" class=\"dataframe\">\n",
       "  <thead>\n",
       "    <tr style=\"text-align: right;\">\n",
       "      <th></th>\n",
       "      <th>xz_stress</th>\n",
       "      <th>yz_stress</th>\n",
       "    </tr>\n",
       "  </thead>\n",
       "  <tbody>\n",
       "    <tr>\n",
       "      <th>count</th>\n",
       "      <td>734.000000</td>\n",
       "      <td>734.000000</td>\n",
       "    </tr>\n",
       "    <tr>\n",
       "      <th>mean</th>\n",
       "      <td>-4.389081</td>\n",
       "      <td>-3.304068</td>\n",
       "    </tr>\n",
       "    <tr>\n",
       "      <th>std</th>\n",
       "      <td>5.835849</td>\n",
       "      <td>6.720918</td>\n",
       "    </tr>\n",
       "    <tr>\n",
       "      <th>min</th>\n",
       "      <td>-26.264985</td>\n",
       "      <td>-34.373000</td>\n",
       "    </tr>\n",
       "    <tr>\n",
       "      <th>25%</th>\n",
       "      <td>-8.448389</td>\n",
       "      <td>-6.257592</td>\n",
       "    </tr>\n",
       "    <tr>\n",
       "      <th>50%</th>\n",
       "      <td>-1.874759</td>\n",
       "      <td>-1.698347</td>\n",
       "    </tr>\n",
       "    <tr>\n",
       "      <th>75%</th>\n",
       "      <td>0.000000</td>\n",
       "      <td>0.000000</td>\n",
       "    </tr>\n",
       "    <tr>\n",
       "      <th>max</th>\n",
       "      <td>4.991560</td>\n",
       "      <td>28.835635</td>\n",
       "    </tr>\n",
       "  </tbody>\n",
       "</table>\n",
       "</div>"
      ],
      "text/plain": [
       "        xz_stress   yz_stress\n",
       "count  734.000000  734.000000\n",
       "mean    -4.389081   -3.304068\n",
       "std      5.835849    6.720918\n",
       "min    -26.264985  -34.373000\n",
       "25%     -8.448389   -6.257592\n",
       "50%     -1.874759   -1.698347\n",
       "75%      0.000000    0.000000\n",
       "max      4.991560   28.835635"
      ]
     },
     "execution_count": 36,
     "metadata": {},
     "output_type": "execute_result"
    }
   ],
   "source": [
    "ts[['xz_stress', 'yz_stress']].describe()"
   ]
  }
 ],
 "metadata": {
  "kernelspec": {
   "display_name": "Python 3",
   "language": "python",
   "name": "python3"
  },
  "language_info": {
   "codemirror_mode": {
    "name": "ipython",
    "version": 3
   },
   "file_extension": ".py",
   "mimetype": "text/x-python",
   "name": "python",
   "nbconvert_exporter": "python",
   "pygments_lexer": "ipython3",
   "version": "3.4.4"
  }
 },
 "nbformat": 4,
 "nbformat_minor": 0
}
